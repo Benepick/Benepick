{
 "cells": [
  {
   "cell_type": "code",
   "execution_count": 84,
   "metadata": {},
   "outputs": [],
   "source": [
    "import os\n",
    "import pandas as pd\n",
    "import csv\n",
    "\n",
    "# 병합할 CSV 파일들이 있는 폴더 경로\n",
    "folder_path = 'C:\\\\Users\\\\SSAFY\\\\Desktop\\\\local'\n",
    "\n",
    "# 모든 CSV 파일 목록 가져오기\n",
    "csv_files = [f for f in os.listdir(folder_path) if f.endswith('.csv')]\n"
   ]
  },
  {
   "cell_type": "code",
   "execution_count": 190,
   "metadata": {},
   "outputs": [],
   "source": [
    "\n",
    "\n",
    "# 빈 DataFrame을 만들어서 병합할 준비\n",
    "combined_data = pd.DataFrame()\n",
    "for csv_file in csv_files:\n",
    "    file_path = os.path.join(folder_path, csv_file)\n",
    "    f = open(file_path, encoding=\"cp949\")\n",
    "    reader = csv.reader(f)\n",
    "    csv_list = []\n",
    "    for line in reader:\n",
    "        csv_list.append(line[:28])\n",
    "    f.close()\n",
    "    \n",
    "    df = pd.DataFrame(csv_list[1:], columns=csv_list[0])\n",
    "    df = df[df[\"영업상태명\"]!=\"폐업\"]\n",
    "    df = df[[\"개방서비스명\",\"개방서비스아이디\", \"사업장명\", \"좌표정보(x)\", \"좌표정보(y)\", \"업태구분명\"]]\n",
    "    combined_data = pd.concat([combined_data, df])"
   ]
  },
  {
   "cell_type": "code",
   "execution_count": 207,
   "metadata": {},
   "outputs": [
    {
     "name": "stdout",
     "output_type": "stream",
     "text": [
      "['요양병원(일반요양병원)' '정신병원' '병원' '요양병원(노인병원)' '종합병원' '한방병원' '치과병원' '요양병원(정신병원)'\n",
      " '치과의원' '한의원' '의원' '보건진료소' '보건지소' '보건소' '조산원' '보건의료원' '' '여관업' '숙박업(생활)'\n",
      " '일반호텔' '여인숙업' '숙박업 기타' '관광호텔' '휴양콘도미니엄업' '일반미용업' '네일아트업' '피부미용업' '메이크업업'\n",
      " '기타' '미용업 기타' '일반이용업' '일반세탁업' '세탁업 기타' '운동화전문세탁업' '빨래방업' '제과점영업' '푸드트럭'\n",
      " '한식' '호프/통닭' '경양식' '분식' '일식' '중국식' '식육(숯불구이)' '횟집' '라이브카페' '냉면집'\n",
      " '정종/대포집/소주방' '탕류(보신용)' '패밀리레스트랑' '뷔페식' '감성주점' '외국음식전문점(인도,태국등)' '까페'\n",
      " '김밥(도시락)' '출장조리' '패스트푸드' '키즈카페' '통닭(치킨)' '복어취급' '전통찻집' '이동조리' '커피숍' '편의점'\n",
      " '기타 휴게음식점' '일반조리판매' '아이스크림' '다방' '떡카페' '백화점' '극장' '철도역구내' '고속도로' '과자점'\n",
      " '유원지' '공항' '단란주점' '구분없음' '그 밖의 대규모점포' '전문점' '대형마트' '쇼핑센터' '시장' '복합쇼핑몰'\n",
      " '일반대리점' '부생연료판매소' '용제대리점' '석유대체연료판매업(대리점)' '일반판매소' '주유소' '용제판매소' '특수판매소'\n",
      " '부생연료유판매소' '항공유판매소' '태권도' '검도' '권투' '유도' '합기도' '우슈' '레슬링' '야구종목']\n",
      "['병원' '의원' '부속의료기관' '약국' '영화' '동물병원' '동물약국' '공연장' '관광공연장업' '관광극장유흥업'\n",
      " '박물관, 미술관' '관광숙박업' '관광펜션업' '숙박업' '영화상영관' '영화상영업' '미용업' '세탁업' '제과점영업'\n",
      " '관광식당' '일반음식점' '카페' '휴게음식점' '대규모점포' '대형마트' '석유및석유대체연료판매업체' '석유판매업' '골프장'\n",
      " '당구장업' '무도장업' '무도학원업' '빙상장업' '수영장업' '스키장' '종합체육시설업' '승마장업' '썰매장업' '요트장업'\n",
      " '체육도장업' '체력단련장업']\n"
     ]
    }
   ],
   "source": [
    "combined_data = combined_data[combined_data[\"좌표정보(x)\"]!=\"\"]\n",
    "combined_data = combined_data.drop_duplicates()\n",
    "\n",
    "print(combined_data[\"업태구분명\"].unique())\n",
    "print(combined_data[\"개방서비스명\"].unique())\n",
    "# combined_data[combined_data[\"개방서비스명\"]==\"영화상영업\"][\"사업장명\"].unique()"
   ]
  },
  {
   "cell_type": "code",
   "execution_count": 192,
   "metadata": {},
   "outputs": [],
   "source": [
    "# print(combined_data[\"업태구분명\"].unique())\n",
    "# print()\n",
    "# print(combined_data[\"개방서비스명\"].unique())\n",
    "# combined_data[(combined_data[\"업태구분명\"] == \"대형마트\") & combined_data[\"사업장명\"].str.contains(\"E마트\")][\"개방서비스명\"]=\"대형마트\"\n",
    "combined_data.loc[(combined_data[\"업태구분명\"] == \"대형마트\") & combined_data[\"사업장명\"].str.contains(\"이마트\") & ~combined_data[\"사업장명\"].str.contains(\"에브리데이\")& ~combined_data[\"사업장명\"].str.contains(\"트레이더스\"), \"개방서비스명\"] = \"대형마트\"\n",
    "# combined_data[combined_data[\"개방서비스명\"]==\"대규모점포\"][\"사업장명\"].head(100).unique()\n",
    "# combined_data.loc[combined_data[\"업태구분명\"]==\"대형마트\", \"개방서비스명\"]=\"대형마트\"\n"
   ]
  },
  {
   "cell_type": "markdown",
   "metadata": {},
   "source": [
    "# 중간 저장|"
   ]
  },
  {
   "cell_type": "code",
   "execution_count": 201,
   "metadata": {},
   "outputs": [],
   "source": [
    "combined_data.to_csv(\"C:\\\\Users\\\\SSAFY\\\\Desktop\\\\전처리\\\\processed_local.csv\", index=False, encoding=\"utf-8-sig\")\n",
    "# test_df = combined_data[(combined_data[\"업태구분명\"] == \"대형마트\") & combined_data[\"사업장명\"].str.contains(\"홈플러스\")]\n",
    "# test_df.to_csv(\"C:\\\\Users\\\\SSAFY\\\\Desktop\\\\전처리\\\\test.csv\", index=False, encoding=\"utf-8-sig\")"
   ]
  },
  {
   "cell_type": "markdown",
   "metadata": {},
   "source": [
    "# 이마트 끝났고, 이제 롯데마트"
   ]
  },
  {
   "cell_type": "code",
   "execution_count": 193,
   "metadata": {},
   "outputs": [],
   "source": [
    "combined_data.loc[(combined_data[\"업태구분명\"] == \"대형마트\") & combined_data[\"사업장명\"].str.contains(\"롯데마트\"), \"개방서비스명\"] = \"대형마트\""
   ]
  },
  {
   "cell_type": "markdown",
   "metadata": {},
   "source": [
    "# 이제 홈플러스"
   ]
  },
  {
   "cell_type": "code",
   "execution_count": 194,
   "metadata": {},
   "outputs": [],
   "source": [
    "combined_data.loc[(combined_data[\"업태구분명\"] == \"대형마트\") & combined_data[\"사업장명\"].str.contains(\"홈플러스\") & ~combined_data[\"사업장명\"].str.contains(\"익스프레스\"), \"개방서비스명\"]=\"대형마트\""
   ]
  },
  {
   "cell_type": "markdown",
   "metadata": {},
   "source": [
    "# 카페 걸러내기"
   ]
  },
  {
   "cell_type": "code",
   "execution_count": 195,
   "metadata": {},
   "outputs": [],
   "source": [
    "# combined_data.loc[combined_data[\"업태구분명\"]==\"까페\", \"개방서비스명\"] = \"카페\"\n",
    "combined_data.loc[(combined_data[\"개방서비스명\"]==\"일반음식점\") & (combined_data[\"업태구분명\"] == \"커피숍\"), \"개방서비스명\"] = \"카페\""
   ]
  },
  {
   "cell_type": "markdown",
   "metadata": {},
   "source": [
    "# 영화 걸러내기"
   ]
  },
  {
   "cell_type": "code",
   "execution_count": 196,
   "metadata": {},
   "outputs": [],
   "source": [
    "# combined_data[(combined_data[\"사업장명\"].str.contains(\"CGV\")) & (combined_data[\"업태구분명\"] != \"커피숍\")].to_csv(\"C:\\\\Users\\\\SSAFY\\\\Desktop\\\\전처리\\\\test.csv\", index=False, encoding=\"utf-8-sig\")\n",
    "combined_data.loc[(combined_data[\"사업장명\"].str.contains(\"CGV\")) & (combined_data[\"업태구분명\"] == \"\"), \"개방서비스명\"] = \"영화\""
   ]
  },
  {
   "cell_type": "code",
   "execution_count": 197,
   "metadata": {},
   "outputs": [],
   "source": [
    "combined_data.loc[(combined_data[\"사업장명\"].str.contains(\"롯데시네마\")) & (combined_data[\"업태구분명\"] == \"\"), \"개방서비스명\"] = \"영화\""
   ]
  },
  {
   "cell_type": "code",
   "execution_count": 198,
   "metadata": {},
   "outputs": [],
   "source": [
    "combined_data.loc[(combined_data[\"사업장명\"].str.contains(\"메가박스\")) & (combined_data[\"업태구분명\"] == \"\"), \"개방서비스명\"] = \"영화\""
   ]
  },
  {
   "cell_type": "markdown",
   "metadata": {},
   "source": [
    "# 세탁 걸러내기"
   ]
  },
  {
   "cell_type": "code",
   "execution_count": 206,
   "metadata": {},
   "outputs": [
    {
     "data": {
      "text/html": [
       "<div>\n",
       "<style scoped>\n",
       "    .dataframe tbody tr th:only-of-type {\n",
       "        vertical-align: middle;\n",
       "    }\n",
       "\n",
       "    .dataframe tbody tr th {\n",
       "        vertical-align: top;\n",
       "    }\n",
       "\n",
       "    .dataframe thead th {\n",
       "        text-align: right;\n",
       "    }\n",
       "</style>\n",
       "<table border=\"1\" class=\"dataframe\">\n",
       "  <thead>\n",
       "    <tr style=\"text-align: right;\">\n",
       "      <th></th>\n",
       "      <th>개방서비스명</th>\n",
       "      <th>개방서비스아이디</th>\n",
       "      <th>사업장명</th>\n",
       "      <th>좌표정보(x)</th>\n",
       "      <th>좌표정보(y)</th>\n",
       "      <th>업태구분명</th>\n",
       "    </tr>\n",
       "  </thead>\n",
       "  <tbody>\n",
       "    <tr>\n",
       "      <th>0</th>\n",
       "      <td>세탁업</td>\n",
       "      <td>06_20_01_P</td>\n",
       "      <td>VIP 스파월드(주)</td>\n",
       "      <td>192068.992141794</td>\n",
       "      <td>180828.26197753</td>\n",
       "      <td>일반세탁업</td>\n",
       "    </tr>\n",
       "    <tr>\n",
       "      <th>1</th>\n",
       "      <td>세탁업</td>\n",
       "      <td>06_20_01_P</td>\n",
       "      <td>세탁사랑</td>\n",
       "      <td>192571.447774712</td>\n",
       "      <td>181683.533955958</td>\n",
       "      <td>일반세탁업</td>\n",
       "    </tr>\n",
       "    <tr>\n",
       "      <th>2</th>\n",
       "      <td>세탁업</td>\n",
       "      <td>06_20_01_P</td>\n",
       "      <td>세탁천재</td>\n",
       "      <td>191357.541565843</td>\n",
       "      <td>178560.60390146</td>\n",
       "      <td>일반세탁업</td>\n",
       "    </tr>\n",
       "    <tr>\n",
       "      <th>3</th>\n",
       "      <td>세탁업</td>\n",
       "      <td>06_20_01_P</td>\n",
       "      <td>금호사</td>\n",
       "      <td>192540.373058795</td>\n",
       "      <td>181348.790416162</td>\n",
       "      <td>일반세탁업</td>\n",
       "    </tr>\n",
       "    <tr>\n",
       "      <th>4</th>\n",
       "      <td>세탁업</td>\n",
       "      <td>06_20_01_P</td>\n",
       "      <td>수정사</td>\n",
       "      <td>192540.627730131</td>\n",
       "      <td>180641.956508434</td>\n",
       "      <td>일반세탁업</td>\n",
       "    </tr>\n",
       "    <tr>\n",
       "      <th>...</th>\n",
       "      <td>...</td>\n",
       "      <td>...</td>\n",
       "      <td>...</td>\n",
       "      <td>...</td>\n",
       "      <td>...</td>\n",
       "      <td>...</td>\n",
       "    </tr>\n",
       "    <tr>\n",
       "      <th>20748</th>\n",
       "      <td>세탁업</td>\n",
       "      <td>06_20_01_P</td>\n",
       "      <td>미소세탁소</td>\n",
       "      <td>175753.766136467</td>\n",
       "      <td>439846.576720557</td>\n",
       "      <td>일반세탁업</td>\n",
       "    </tr>\n",
       "    <tr>\n",
       "      <th>20751</th>\n",
       "      <td>세탁업</td>\n",
       "      <td>06_20_01_P</td>\n",
       "      <td>빨래방</td>\n",
       "      <td>180848.50397412</td>\n",
       "      <td>179712.558665013</td>\n",
       "      <td>일반세탁업</td>\n",
       "    </tr>\n",
       "    <tr>\n",
       "      <th>20752</th>\n",
       "      <td>세탁업</td>\n",
       "      <td>06_20_01_P</td>\n",
       "      <td>한미세탁소</td>\n",
       "      <td>190233.366612718</td>\n",
       "      <td>182627.089753038</td>\n",
       "      <td>일반세탁업</td>\n",
       "    </tr>\n",
       "    <tr>\n",
       "      <th>20753</th>\n",
       "      <td>세탁업</td>\n",
       "      <td>06_20_01_P</td>\n",
       "      <td>세광세탁소</td>\n",
       "      <td>234476.944094855</td>\n",
       "      <td>311413.445134208</td>\n",
       "      <td>일반세탁업</td>\n",
       "    </tr>\n",
       "    <tr>\n",
       "      <th>20754</th>\n",
       "      <td>세탁업</td>\n",
       "      <td>06_20_01_P</td>\n",
       "      <td>영희네세탁</td>\n",
       "      <td>348596.620322286</td>\n",
       "      <td>156271.759862272</td>\n",
       "      <td>일반세탁업</td>\n",
       "    </tr>\n",
       "  </tbody>\n",
       "</table>\n",
       "<p>19239 rows × 6 columns</p>\n",
       "</div>"
      ],
      "text/plain": [
       "      개방서비스명    개방서비스아이디         사업장명           좌표정보(x)           좌표정보(y)  \\\n",
       "0        세탁업  06_20_01_P  VIP 스파월드(주)  192068.992141794   180828.26197753   \n",
       "1        세탁업  06_20_01_P         세탁사랑  192571.447774712  181683.533955958   \n",
       "2        세탁업  06_20_01_P         세탁천재  191357.541565843   178560.60390146   \n",
       "3        세탁업  06_20_01_P          금호사  192540.373058795  181348.790416162   \n",
       "4        세탁업  06_20_01_P          수정사  192540.627730131  180641.956508434   \n",
       "...      ...         ...          ...               ...               ...   \n",
       "20748    세탁업  06_20_01_P        미소세탁소  175753.766136467  439846.576720557   \n",
       "20751    세탁업  06_20_01_P          빨래방   180848.50397412  179712.558665013   \n",
       "20752    세탁업  06_20_01_P        한미세탁소  190233.366612718  182627.089753038   \n",
       "20753    세탁업  06_20_01_P        세광세탁소  234476.944094855  311413.445134208   \n",
       "20754    세탁업  06_20_01_P        영희네세탁  348596.620322286  156271.759862272   \n",
       "\n",
       "       업태구분명  \n",
       "0      일반세탁업  \n",
       "1      일반세탁업  \n",
       "2      일반세탁업  \n",
       "3      일반세탁업  \n",
       "4      일반세탁업  \n",
       "...      ...  \n",
       "20748  일반세탁업  \n",
       "20751  일반세탁업  \n",
       "20752  일반세탁업  \n",
       "20753  일반세탁업  \n",
       "20754  일반세탁업  \n",
       "\n",
       "[19239 rows x 6 columns]"
      ]
     },
     "execution_count": 206,
     "metadata": {},
     "output_type": "execute_result"
    }
   ],
   "source": [
    "# '일반세탁업' '세탁업 기타' '운동화전문세탁업' '빨래방업'\n",
    "combined_data[combined_data[\"업태구분명\"] == '일반세탁업']"
   ]
  },
  {
   "cell_type": "code",
   "execution_count": null,
   "metadata": {},
   "outputs": [],
   "source": []
  },
  {
   "cell_type": "code",
   "execution_count": null,
   "metadata": {},
   "outputs": [],
   "source": []
  }
 ],
 "metadata": {
  "kernelspec": {
   "display_name": "benepick",
   "language": "python",
   "name": "conda"
  },
  "language_info": {
   "codemirror_mode": {
    "name": "ipython",
    "version": 3
   },
   "file_extension": ".py",
   "mimetype": "text/x-python",
   "name": "python",
   "nbconvert_exporter": "python",
   "pygments_lexer": "ipython3",
   "version": "3.11.5"
  },
  "orig_nbformat": 4
 },
 "nbformat": 4,
 "nbformat_minor": 2
}
