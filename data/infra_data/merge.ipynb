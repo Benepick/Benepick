{
 "cells": [
  {
   "cell_type": "code",
   "execution_count": 180,
   "metadata": {},
   "outputs": [],
   "source": [
    "import pandas as pd\n",
    "\n",
    "mart = pd.read_csv('대형마트.csv')\n",
    "department = pd.read_csv('백화점.csv')\n",
    "hospital = pd.read_csv('병원.csv')\n",
    "beauty = pd.read_csv('뷰티.csv')\n",
    "outlet = pd.read_csv('아울렛.csv')\n",
    "pharm = pd.read_csv('약국.csv')\n",
    "movie = pd.read_csv('영화.csv')\n",
    "food = pd.read_csv('음식점.csv')\n",
    "charge = pd.read_csv('주유소.csv')\n",
    "cafe = pd.read_csv('카페.csv')\n",
    "store = pd.read_csv('편의점.csv')\n",
    "gym = pd.read_csv('헬스장.csv')\n",
    "clean = pd.read_csv('세탁소.csv')\n",
    "\n"
   ]
  },
  {
   "cell_type": "code",
   "execution_count": 165,
   "metadata": {},
   "outputs": [
    {
     "data": {
      "text/plain": [
       "array(['홈플러스', '이마트', '롯데마트'], dtype=object)"
      ]
     },
     "execution_count": 165,
     "metadata": {},
     "output_type": "execute_result"
    }
   ],
   "source": [
    "mart['개방서비스명'] = '쇼핑'\n",
    "mart.head()\n",
    "mart['소분류'].unique()"
   ]
  },
  {
   "cell_type": "code",
   "execution_count": 168,
   "metadata": {},
   "outputs": [
    {
     "data": {
      "text/plain": [
       "array(['롯데', nan, '현대', '갤러리아', '신세계'], dtype=object)"
      ]
     },
     "execution_count": 168,
     "metadata": {},
     "output_type": "execute_result"
    }
   ],
   "source": [
    "department['개방서비스명']='쇼핑'\n",
    "department.head()\n",
    "department['소분류'].unique()\n"
   ]
  },
  {
   "cell_type": "code",
   "execution_count": 167,
   "metadata": {},
   "outputs": [
    {
     "data": {
      "text/plain": [
       "array([nan])"
      ]
     },
     "execution_count": 167,
     "metadata": {},
     "output_type": "execute_result"
    }
   ],
   "source": [
    "hospital['개방서비스명'] = '생활'\n",
    "hospital.head()\n",
    "hospital['소분류'].unique()"
   ]
  },
  {
   "cell_type": "code",
   "execution_count": 169,
   "metadata": {},
   "outputs": [
    {
     "data": {
      "text/plain": [
       "array(['올리브영'], dtype=object)"
      ]
     },
     "execution_count": 169,
     "metadata": {},
     "output_type": "execute_result"
    }
   ],
   "source": [
    "beauty['개방서비스명'] = '쇼핑'\n",
    "beauty.head()\n",
    "beauty['소분류'].unique()"
   ]
  },
  {
   "cell_type": "code",
   "execution_count": 171,
   "metadata": {},
   "outputs": [
    {
     "data": {
      "text/plain": [
       "array([nan, '롯데', '현대', '신세계'], dtype=object)"
      ]
     },
     "execution_count": 171,
     "metadata": {},
     "output_type": "execute_result"
    }
   ],
   "source": [
    "outlet['개방서비스명'] = '쇼핑'\n",
    "outlet.head()\n",
    "outlet['소분류'].unique()\n"
   ]
  },
  {
   "cell_type": "code",
   "execution_count": 172,
   "metadata": {},
   "outputs": [
    {
     "data": {
      "text/plain": [
       "array([nan])"
      ]
     },
     "execution_count": 172,
     "metadata": {},
     "output_type": "execute_result"
    }
   ],
   "source": [
    "pharm['개방서비스명'] = '생활'\n",
    "pharm.head()\n",
    "pharm['소분류'].unique()\n"
   ]
  },
  {
   "cell_type": "code",
   "execution_count": 173,
   "metadata": {},
   "outputs": [
    {
     "data": {
      "text/plain": [
       "array(['CGV', nan, '롯데시네마', '메가박스'], dtype=object)"
      ]
     },
     "execution_count": 173,
     "metadata": {},
     "output_type": "execute_result"
    }
   ],
   "source": [
    "movie['개방서비스명'] = '여가'\n",
    "movie.head()\n",
    "movie['소분류'].unique()"
   ]
  },
  {
   "cell_type": "code",
   "execution_count": 175,
   "metadata": {},
   "outputs": [
    {
     "data": {
      "text/plain": [
       "array([nan])"
      ]
     },
     "execution_count": 175,
     "metadata": {},
     "output_type": "execute_result"
    }
   ],
   "source": [
    "food['개방서비스명'] = '식비'\n",
    "food.head()\n",
    "food['소분류'].unique()"
   ]
  },
  {
   "cell_type": "code",
   "execution_count": 174,
   "metadata": {},
   "outputs": [
    {
     "data": {
      "text/plain": [
       "array([nan, '현대', 'SK', '알뜰', 'GS', 'S-OIL'], dtype=object)"
      ]
     },
     "execution_count": 174,
     "metadata": {},
     "output_type": "execute_result"
    }
   ],
   "source": [
    "charge['개방서비스명'] = '생활'\n",
    "charge.head()\n",
    "charge['소분류'].unique()"
   ]
  },
  {
   "cell_type": "code",
   "execution_count": 178,
   "metadata": {},
   "outputs": [
    {
     "data": {
      "text/plain": [
       "array([nan, '탐앤탐스', '이디야', '스타벅스', '투썸플레이스', '엔제리너스', '폴바셋', '할리스', '커피빈',\n",
       "       '카페베네', '블루보틀'], dtype=object)"
      ]
     },
     "execution_count": 178,
     "metadata": {},
     "output_type": "execute_result"
    }
   ],
   "source": [
    "cafe['개방서비스명'] = '카페/간식'\n",
    "cafe.head()\n",
    "cafe['소분류'].unique()"
   ]
  },
  {
   "cell_type": "code",
   "execution_count": 152,
   "metadata": {},
   "outputs": [],
   "source": [
    "store.head()\n",
    "store = store[store['업태구분명']=='편의점']"
   ]
  },
  {
   "cell_type": "code",
   "execution_count": 177,
   "metadata": {},
   "outputs": [
    {
     "data": {
      "text/plain": [
       "array(['CU', '세븐일레븐', '이마트24', 'GS25', nan, '미니스톱'], dtype=object)"
      ]
     },
     "execution_count": 177,
     "metadata": {},
     "output_type": "execute_result"
    }
   ],
   "source": [
    "store['소분류'].unique()"
   ]
  },
  {
   "cell_type": "code",
   "execution_count": 176,
   "metadata": {},
   "outputs": [
    {
     "data": {
      "text/plain": [
       "array(['헬스장'], dtype=object)"
      ]
     },
     "execution_count": 176,
     "metadata": {},
     "output_type": "execute_result"
    }
   ],
   "source": [
    "gym['개방서비스명'] = '여가'\n",
    "gym.head()\n",
    "gym['소분류'].unique()"
   ]
  },
  {
   "cell_type": "markdown",
   "metadata": {},
   "source": [
    "### 쇼핑 : 대형마트, 백화점, 뷰티, 아울렛\n",
    "### 생활 : 병원, 약국, 주유소\n",
    "### 식비 : 일반음식점, 휴게음식점, 패밀리레스토랑\n",
    "### 여가 : 헬스장, 영화\n",
    "### 카페/간식 : 카페\n",
    "### 편의점 : 편의점"
   ]
  },
  {
   "cell_type": "code",
   "execution_count": 155,
   "metadata": {},
   "outputs": [],
   "source": [
    "combined_df = pd.concat([mart, department, hospital, beauty, outlet, pharm, charge, food, gym, movie, cafe, store], ignore_index=True)"
   ]
  },
  {
   "cell_type": "code",
   "execution_count": 190,
   "metadata": {},
   "outputs": [],
   "source": [
    "combined_df.to_csv(\"가게정보.csv\", index=False, encoding=\"utf-8-sig\")"
   ]
  },
  {
   "cell_type": "code",
   "execution_count": 3,
   "metadata": {},
   "outputs": [],
   "source": [
    "import pandas as pd"
   ]
  },
  {
   "cell_type": "code",
   "execution_count": 7,
   "metadata": {},
   "outputs": [
    {
     "ename": "FileNotFoundError",
     "evalue": "[Errno 2] No such file or directory: '온라인_교통_스트리밍.csv'",
     "output_type": "error",
     "traceback": [
      "\u001b[1;31m---------------------------------------------------------------------------\u001b[0m",
      "\u001b[1;31mFileNotFoundError\u001b[0m                         Traceback (most recent call last)",
      "Cell \u001b[1;32mIn[7], line 1\u001b[0m\n\u001b[1;32m----> 1\u001b[0m etc \u001b[39m=\u001b[39m pd\u001b[39m.\u001b[39;49mread_csv(\u001b[39m'\u001b[39;49m\u001b[39m온라인_교통_스트리밍.csv\u001b[39;49m\u001b[39m'\u001b[39;49m, encoding\u001b[39m=\u001b[39;49m\u001b[39m'\u001b[39;49m\u001b[39mcp949\u001b[39;49m\u001b[39m'\u001b[39;49m)\n",
      "File \u001b[1;32mc:\\Users\\SSAFY\\AppData\\Local\\Programs\\Python\\Python39\\lib\\site-packages\\pandas\\io\\parsers\\readers.py:948\u001b[0m, in \u001b[0;36mread_csv\u001b[1;34m(filepath_or_buffer, sep, delimiter, header, names, index_col, usecols, dtype, engine, converters, true_values, false_values, skipinitialspace, skiprows, skipfooter, nrows, na_values, keep_default_na, na_filter, verbose, skip_blank_lines, parse_dates, infer_datetime_format, keep_date_col, date_parser, date_format, dayfirst, cache_dates, iterator, chunksize, compression, thousands, decimal, lineterminator, quotechar, quoting, doublequote, escapechar, comment, encoding, encoding_errors, dialect, on_bad_lines, delim_whitespace, low_memory, memory_map, float_precision, storage_options, dtype_backend)\u001b[0m\n\u001b[0;32m    935\u001b[0m kwds_defaults \u001b[39m=\u001b[39m _refine_defaults_read(\n\u001b[0;32m    936\u001b[0m     dialect,\n\u001b[0;32m    937\u001b[0m     delimiter,\n\u001b[1;32m   (...)\u001b[0m\n\u001b[0;32m    944\u001b[0m     dtype_backend\u001b[39m=\u001b[39mdtype_backend,\n\u001b[0;32m    945\u001b[0m )\n\u001b[0;32m    946\u001b[0m kwds\u001b[39m.\u001b[39mupdate(kwds_defaults)\n\u001b[1;32m--> 948\u001b[0m \u001b[39mreturn\u001b[39;00m _read(filepath_or_buffer, kwds)\n",
      "File \u001b[1;32mc:\\Users\\SSAFY\\AppData\\Local\\Programs\\Python\\Python39\\lib\\site-packages\\pandas\\io\\parsers\\readers.py:611\u001b[0m, in \u001b[0;36m_read\u001b[1;34m(filepath_or_buffer, kwds)\u001b[0m\n\u001b[0;32m    608\u001b[0m _validate_names(kwds\u001b[39m.\u001b[39mget(\u001b[39m\"\u001b[39m\u001b[39mnames\u001b[39m\u001b[39m\"\u001b[39m, \u001b[39mNone\u001b[39;00m))\n\u001b[0;32m    610\u001b[0m \u001b[39m# Create the parser.\u001b[39;00m\n\u001b[1;32m--> 611\u001b[0m parser \u001b[39m=\u001b[39m TextFileReader(filepath_or_buffer, \u001b[39m*\u001b[39m\u001b[39m*\u001b[39mkwds)\n\u001b[0;32m    613\u001b[0m \u001b[39mif\u001b[39;00m chunksize \u001b[39mor\u001b[39;00m iterator:\n\u001b[0;32m    614\u001b[0m     \u001b[39mreturn\u001b[39;00m parser\n",
      "File \u001b[1;32mc:\\Users\\SSAFY\\AppData\\Local\\Programs\\Python\\Python39\\lib\\site-packages\\pandas\\io\\parsers\\readers.py:1448\u001b[0m, in \u001b[0;36mTextFileReader.__init__\u001b[1;34m(self, f, engine, **kwds)\u001b[0m\n\u001b[0;32m   1445\u001b[0m     \u001b[39mself\u001b[39m\u001b[39m.\u001b[39moptions[\u001b[39m\"\u001b[39m\u001b[39mhas_index_names\u001b[39m\u001b[39m\"\u001b[39m] \u001b[39m=\u001b[39m kwds[\u001b[39m\"\u001b[39m\u001b[39mhas_index_names\u001b[39m\u001b[39m\"\u001b[39m]\n\u001b[0;32m   1447\u001b[0m \u001b[39mself\u001b[39m\u001b[39m.\u001b[39mhandles: IOHandles \u001b[39m|\u001b[39m \u001b[39mNone\u001b[39;00m \u001b[39m=\u001b[39m \u001b[39mNone\u001b[39;00m\n\u001b[1;32m-> 1448\u001b[0m \u001b[39mself\u001b[39m\u001b[39m.\u001b[39m_engine \u001b[39m=\u001b[39m \u001b[39mself\u001b[39;49m\u001b[39m.\u001b[39;49m_make_engine(f, \u001b[39mself\u001b[39;49m\u001b[39m.\u001b[39;49mengine)\n",
      "File \u001b[1;32mc:\\Users\\SSAFY\\AppData\\Local\\Programs\\Python\\Python39\\lib\\site-packages\\pandas\\io\\parsers\\readers.py:1705\u001b[0m, in \u001b[0;36mTextFileReader._make_engine\u001b[1;34m(self, f, engine)\u001b[0m\n\u001b[0;32m   1703\u001b[0m     \u001b[39mif\u001b[39;00m \u001b[39m\"\u001b[39m\u001b[39mb\u001b[39m\u001b[39m\"\u001b[39m \u001b[39mnot\u001b[39;00m \u001b[39min\u001b[39;00m mode:\n\u001b[0;32m   1704\u001b[0m         mode \u001b[39m+\u001b[39m\u001b[39m=\u001b[39m \u001b[39m\"\u001b[39m\u001b[39mb\u001b[39m\u001b[39m\"\u001b[39m\n\u001b[1;32m-> 1705\u001b[0m \u001b[39mself\u001b[39m\u001b[39m.\u001b[39mhandles \u001b[39m=\u001b[39m get_handle(\n\u001b[0;32m   1706\u001b[0m     f,\n\u001b[0;32m   1707\u001b[0m     mode,\n\u001b[0;32m   1708\u001b[0m     encoding\u001b[39m=\u001b[39;49m\u001b[39mself\u001b[39;49m\u001b[39m.\u001b[39;49moptions\u001b[39m.\u001b[39;49mget(\u001b[39m\"\u001b[39;49m\u001b[39mencoding\u001b[39;49m\u001b[39m\"\u001b[39;49m, \u001b[39mNone\u001b[39;49;00m),\n\u001b[0;32m   1709\u001b[0m     compression\u001b[39m=\u001b[39;49m\u001b[39mself\u001b[39;49m\u001b[39m.\u001b[39;49moptions\u001b[39m.\u001b[39;49mget(\u001b[39m\"\u001b[39;49m\u001b[39mcompression\u001b[39;49m\u001b[39m\"\u001b[39;49m, \u001b[39mNone\u001b[39;49;00m),\n\u001b[0;32m   1710\u001b[0m     memory_map\u001b[39m=\u001b[39;49m\u001b[39mself\u001b[39;49m\u001b[39m.\u001b[39;49moptions\u001b[39m.\u001b[39;49mget(\u001b[39m\"\u001b[39;49m\u001b[39mmemory_map\u001b[39;49m\u001b[39m\"\u001b[39;49m, \u001b[39mFalse\u001b[39;49;00m),\n\u001b[0;32m   1711\u001b[0m     is_text\u001b[39m=\u001b[39;49mis_text,\n\u001b[0;32m   1712\u001b[0m     errors\u001b[39m=\u001b[39;49m\u001b[39mself\u001b[39;49m\u001b[39m.\u001b[39;49moptions\u001b[39m.\u001b[39;49mget(\u001b[39m\"\u001b[39;49m\u001b[39mencoding_errors\u001b[39;49m\u001b[39m\"\u001b[39;49m, \u001b[39m\"\u001b[39;49m\u001b[39mstrict\u001b[39;49m\u001b[39m\"\u001b[39;49m),\n\u001b[0;32m   1713\u001b[0m     storage_options\u001b[39m=\u001b[39;49m\u001b[39mself\u001b[39;49m\u001b[39m.\u001b[39;49moptions\u001b[39m.\u001b[39;49mget(\u001b[39m\"\u001b[39;49m\u001b[39mstorage_options\u001b[39;49m\u001b[39m\"\u001b[39;49m, \u001b[39mNone\u001b[39;49;00m),\n\u001b[0;32m   1714\u001b[0m )\n\u001b[0;32m   1715\u001b[0m \u001b[39massert\u001b[39;00m \u001b[39mself\u001b[39m\u001b[39m.\u001b[39mhandles \u001b[39mis\u001b[39;00m \u001b[39mnot\u001b[39;00m \u001b[39mNone\u001b[39;00m\n\u001b[0;32m   1716\u001b[0m f \u001b[39m=\u001b[39m \u001b[39mself\u001b[39m\u001b[39m.\u001b[39mhandles\u001b[39m.\u001b[39mhandle\n",
      "File \u001b[1;32mc:\\Users\\SSAFY\\AppData\\Local\\Programs\\Python\\Python39\\lib\\site-packages\\pandas\\io\\common.py:863\u001b[0m, in \u001b[0;36mget_handle\u001b[1;34m(path_or_buf, mode, encoding, compression, memory_map, is_text, errors, storage_options)\u001b[0m\n\u001b[0;32m    858\u001b[0m \u001b[39melif\u001b[39;00m \u001b[39misinstance\u001b[39m(handle, \u001b[39mstr\u001b[39m):\n\u001b[0;32m    859\u001b[0m     \u001b[39m# Check whether the filename is to be opened in binary mode.\u001b[39;00m\n\u001b[0;32m    860\u001b[0m     \u001b[39m# Binary mode does not support 'encoding' and 'newline'.\u001b[39;00m\n\u001b[0;32m    861\u001b[0m     \u001b[39mif\u001b[39;00m ioargs\u001b[39m.\u001b[39mencoding \u001b[39mand\u001b[39;00m \u001b[39m\"\u001b[39m\u001b[39mb\u001b[39m\u001b[39m\"\u001b[39m \u001b[39mnot\u001b[39;00m \u001b[39min\u001b[39;00m ioargs\u001b[39m.\u001b[39mmode:\n\u001b[0;32m    862\u001b[0m         \u001b[39m# Encoding\u001b[39;00m\n\u001b[1;32m--> 863\u001b[0m         handle \u001b[39m=\u001b[39m \u001b[39mopen\u001b[39;49m(\n\u001b[0;32m    864\u001b[0m             handle,\n\u001b[0;32m    865\u001b[0m             ioargs\u001b[39m.\u001b[39;49mmode,\n\u001b[0;32m    866\u001b[0m             encoding\u001b[39m=\u001b[39;49mioargs\u001b[39m.\u001b[39;49mencoding,\n\u001b[0;32m    867\u001b[0m             errors\u001b[39m=\u001b[39;49merrors,\n\u001b[0;32m    868\u001b[0m             newline\u001b[39m=\u001b[39;49m\u001b[39m\"\u001b[39;49m\u001b[39m\"\u001b[39;49m,\n\u001b[0;32m    869\u001b[0m         )\n\u001b[0;32m    870\u001b[0m     \u001b[39melse\u001b[39;00m:\n\u001b[0;32m    871\u001b[0m         \u001b[39m# Binary mode\u001b[39;00m\n\u001b[0;32m    872\u001b[0m         handle \u001b[39m=\u001b[39m \u001b[39mopen\u001b[39m(handle, ioargs\u001b[39m.\u001b[39mmode)\n",
      "\u001b[1;31mFileNotFoundError\u001b[0m: [Errno 2] No such file or directory: '온라인_교통_스트리밍.csv'"
     ]
    }
   ],
   "source": [
    "etc = pd.read_csv('온라인_교통_스트리밍.csv', encoding='cp949')"
   ]
  },
  {
   "cell_type": "code",
   "execution_count": 157,
   "metadata": {},
   "outputs": [],
   "source": [
    "etc['업태구분명']=etc['개방서비스명']"
   ]
  },
  {
   "cell_type": "code",
   "execution_count": 158,
   "metadata": {},
   "outputs": [],
   "source": [
    "etc['개방서비스명'] = '온라인'"
   ]
  },
  {
   "cell_type": "code",
   "execution_count": 159,
   "metadata": {},
   "outputs": [],
   "source": [
    "etc.loc[etc['업태구분명']=='온라인(간편결제)','업태구분명'] = '간편결제'"
   ]
  },
  {
   "cell_type": "code",
   "execution_count": 1,
   "metadata": {},
   "outputs": [
    {
     "ename": "NameError",
     "evalue": "name 'etc' is not defined",
     "output_type": "error",
     "traceback": [
      "\u001b[1;31m---------------------------------------------------------------------------\u001b[0m",
      "\u001b[1;31mNameError\u001b[0m                                 Traceback (most recent call last)",
      "Cell \u001b[1;32mIn[1], line 1\u001b[0m\n\u001b[1;32m----> 1\u001b[0m etc\n",
      "\u001b[1;31mNameError\u001b[0m: name 'etc' is not defined"
     ]
    }
   ],
   "source": [
    "etc"
   ]
  },
  {
   "cell_type": "markdown",
   "metadata": {},
   "source": [
    "etc"
   ]
  },
  {
   "cell_type": "markdown",
   "metadata": {},
   "source": [
    "### 쇼핑 : 대형마트, 백화점, 뷰티, 아울렛\n",
    "### 생활 : 병원, 약국, 주유소, 세탁소\n",
    "### 식비 : 일반음식점, 휴게음식점, 패밀리레스토랑\n",
    "### 여가 : 헬스장, 영화\n",
    "### 카페/간식 : 카페\n",
    "### 편의점 : 편의점\n",
    "### 온라인 : 공과금, 교통, 배달, 스트리밍, 온라인, 간편결제, 통신"
   ]
  },
  {
   "cell_type": "code",
   "execution_count": 188,
   "metadata": {},
   "outputs": [
    {
     "data": {
      "text/plain": [
       "array(['대형마트', '백화점', '병원', '뷰티', '아울렛', '약국', '주유소', '일반음식점', '패밀리레스토랑',\n",
       "       '휴게음식점', '헬스장', '영화', '카페', '편의점', '공과금', '교통', '배달', '스트리밍',\n",
       "       '온라인', '간편결제', '통신', '세탁소'], dtype=object)"
      ]
     },
     "execution_count": 188,
     "metadata": {},
     "output_type": "execute_result"
    }
   ],
   "source": [
    "combined_df['업태구분명'].unique()"
   ]
  },
  {
   "cell_type": "code",
   "execution_count": 189,
   "metadata": {},
   "outputs": [
    {
     "data": {
      "text/html": [
       "<div>\n",
       "<style scoped>\n",
       "    .dataframe tbody tr th:only-of-type {\n",
       "        vertical-align: middle;\n",
       "    }\n",
       "\n",
       "    .dataframe tbody tr th {\n",
       "        vertical-align: top;\n",
       "    }\n",
       "\n",
       "    .dataframe thead th {\n",
       "        text-align: right;\n",
       "    }\n",
       "</style>\n",
       "<table border=\"1\" class=\"dataframe\">\n",
       "  <thead>\n",
       "    <tr style=\"text-align: right;\">\n",
       "      <th></th>\n",
       "      <th>개방서비스명</th>\n",
       "      <th>개방서비스아이디</th>\n",
       "      <th>사업장명</th>\n",
       "      <th>좌표정보(x)</th>\n",
       "      <th>좌표정보(y)</th>\n",
       "      <th>업태구분명</th>\n",
       "      <th>소분류</th>\n",
       "    </tr>\n",
       "  </thead>\n",
       "  <tbody>\n",
       "    <tr>\n",
       "      <th>0</th>\n",
       "      <td>쇼핑</td>\n",
       "      <td>08_25_01_P</td>\n",
       "      <td>(주)홈플러스 칠곡점</td>\n",
       "      <td>340320.722710</td>\n",
       "      <td>272735.675660</td>\n",
       "      <td>대형마트</td>\n",
       "      <td>홈플러스</td>\n",
       "    </tr>\n",
       "    <tr>\n",
       "      <th>1</th>\n",
       "      <td>쇼핑</td>\n",
       "      <td>08_25_01_P</td>\n",
       "      <td>신세계이마트 칠성점</td>\n",
       "      <td>343510.573192</td>\n",
       "      <td>266134.259921</td>\n",
       "      <td>대형마트</td>\n",
       "      <td>이마트</td>\n",
       "    </tr>\n",
       "    <tr>\n",
       "      <th>2</th>\n",
       "      <td>쇼핑</td>\n",
       "      <td>08_25_01_P</td>\n",
       "      <td>(주)이마트 칠성점</td>\n",
       "      <td>343510.573192</td>\n",
       "      <td>266134.259921</td>\n",
       "      <td>대형마트</td>\n",
       "      <td>이마트</td>\n",
       "    </tr>\n",
       "    <tr>\n",
       "      <th>3</th>\n",
       "      <td>쇼핑</td>\n",
       "      <td>08_25_01_P</td>\n",
       "      <td>홈플러스(주) 문화점</td>\n",
       "      <td>236541.282086</td>\n",
       "      <td>313349.966820</td>\n",
       "      <td>대형마트</td>\n",
       "      <td>홈플러스</td>\n",
       "    </tr>\n",
       "    <tr>\n",
       "      <th>4</th>\n",
       "      <td>쇼핑</td>\n",
       "      <td>08_25_01_P</td>\n",
       "      <td>롯데쇼핑(주)롯데마트화명점</td>\n",
       "      <td>383175.025397</td>\n",
       "      <td>194733.012499</td>\n",
       "      <td>대형마트</td>\n",
       "      <td>롯데마트</td>\n",
       "    </tr>\n",
       "    <tr>\n",
       "      <th>...</th>\n",
       "      <td>...</td>\n",
       "      <td>...</td>\n",
       "      <td>...</td>\n",
       "      <td>...</td>\n",
       "      <td>...</td>\n",
       "      <td>...</td>\n",
       "      <td>...</td>\n",
       "    </tr>\n",
       "    <tr>\n",
       "      <th>965481</th>\n",
       "      <td>생활</td>\n",
       "      <td>06_20_01_P</td>\n",
       "      <td>꼼꼼 운동화 손세탁</td>\n",
       "      <td>212244.812050</td>\n",
       "      <td>480244.542895</td>\n",
       "      <td>세탁소</td>\n",
       "      <td>NaN</td>\n",
       "    </tr>\n",
       "    <tr>\n",
       "      <th>965482</th>\n",
       "      <td>생활</td>\n",
       "      <td>06_20_01_P</td>\n",
       "      <td>빨래방</td>\n",
       "      <td>180848.503974</td>\n",
       "      <td>179712.558665</td>\n",
       "      <td>세탁소</td>\n",
       "      <td>NaN</td>\n",
       "    </tr>\n",
       "    <tr>\n",
       "      <th>965483</th>\n",
       "      <td>생활</td>\n",
       "      <td>06_20_01_P</td>\n",
       "      <td>한미세탁소</td>\n",
       "      <td>190233.366613</td>\n",
       "      <td>182627.089753</td>\n",
       "      <td>세탁소</td>\n",
       "      <td>NaN</td>\n",
       "    </tr>\n",
       "    <tr>\n",
       "      <th>965484</th>\n",
       "      <td>생활</td>\n",
       "      <td>06_20_01_P</td>\n",
       "      <td>세광세탁소</td>\n",
       "      <td>234476.944095</td>\n",
       "      <td>311413.445134</td>\n",
       "      <td>세탁소</td>\n",
       "      <td>NaN</td>\n",
       "    </tr>\n",
       "    <tr>\n",
       "      <th>965485</th>\n",
       "      <td>생활</td>\n",
       "      <td>06_20_01_P</td>\n",
       "      <td>영희네세탁</td>\n",
       "      <td>348596.620322</td>\n",
       "      <td>156271.759862</td>\n",
       "      <td>세탁소</td>\n",
       "      <td>NaN</td>\n",
       "    </tr>\n",
       "  </tbody>\n",
       "</table>\n",
       "<p>965486 rows × 7 columns</p>\n",
       "</div>"
      ],
      "text/plain": [
       "       개방서비스명    개방서비스아이디            사업장명        좌표정보(x)        좌표정보(y) 업태구분명  \\\n",
       "0          쇼핑  08_25_01_P     (주)홈플러스 칠곡점  340320.722710  272735.675660  대형마트   \n",
       "1          쇼핑  08_25_01_P      신세계이마트 칠성점  343510.573192  266134.259921  대형마트   \n",
       "2          쇼핑  08_25_01_P      (주)이마트 칠성점  343510.573192  266134.259921  대형마트   \n",
       "3          쇼핑  08_25_01_P     홈플러스(주) 문화점  236541.282086  313349.966820  대형마트   \n",
       "4          쇼핑  08_25_01_P  롯데쇼핑(주)롯데마트화명점  383175.025397  194733.012499  대형마트   \n",
       "...       ...         ...             ...            ...            ...   ...   \n",
       "965481     생활  06_20_01_P      꼼꼼 운동화 손세탁  212244.812050  480244.542895   세탁소   \n",
       "965482     생활  06_20_01_P             빨래방  180848.503974  179712.558665   세탁소   \n",
       "965483     생활  06_20_01_P           한미세탁소  190233.366613  182627.089753   세탁소   \n",
       "965484     생활  06_20_01_P           세광세탁소  234476.944095  311413.445134   세탁소   \n",
       "965485     생활  06_20_01_P           영희네세탁  348596.620322  156271.759862   세탁소   \n",
       "\n",
       "         소분류  \n",
       "0       홈플러스  \n",
       "1        이마트  \n",
       "2        이마트  \n",
       "3       홈플러스  \n",
       "4       롯데마트  \n",
       "...      ...  \n",
       "965481   NaN  \n",
       "965482   NaN  \n",
       "965483   NaN  \n",
       "965484   NaN  \n",
       "965485   NaN  \n",
       "\n",
       "[965486 rows x 7 columns]"
      ]
     },
     "execution_count": 189,
     "metadata": {},
     "output_type": "execute_result"
    }
   ],
   "source": [
    "combined_df"
   ]
  },
  {
   "cell_type": "code",
   "execution_count": 186,
   "metadata": {},
   "outputs": [],
   "source": [
    "combined_df = pd.concat([combined_df, clean], ignore_index=True)"
   ]
  },
  {
   "cell_type": "code",
   "execution_count": 163,
   "metadata": {},
   "outputs": [
    {
     "data": {
      "text/plain": [
       "array(['대형마트', '백화점', '병원', '뷰티', '아울렛', '약국', '주유소', '일반음식점', '패밀리레스토랑',\n",
       "       '휴게음식점', '헬스장', '영화', '카페', '편의점', '공과금', '교통', '배달', '스트리밍',\n",
       "       '온라인', '간편결제', '통신'], dtype=object)"
      ]
     },
     "execution_count": 163,
     "metadata": {},
     "output_type": "execute_result"
    }
   ],
   "source": [
    "combined_df['업태구분명'].unique()"
   ]
  },
  {
   "cell_type": "code",
   "execution_count": 164,
   "metadata": {},
   "outputs": [
    {
     "data": {
      "text/plain": [
       "array(['홈플러스', '이마트', '롯데마트', '롯데', nan, '현대', '갤러리아', '신세계', '올리브영',\n",
       "       'SK', '알뜰', 'GS', 'S-OIL', '헬스장', 'CGV', '롯데시네마', '메가박스', '탐앤탐스',\n",
       "       '이디야', '스타벅스', '투썸플레이스', '엔제리너스', '폴바셋', '할리스', '커피빈', '카페베네',\n",
       "       '블루보틀', 'CU', '세븐일레븐', '이마트24', 'GS25', '미니스톱', '도시가스', '관리비',\n",
       "       'KTX', '택시', '지하철', '버스', '배달의민족', '요기요', '쿠팡이츠', '왓챠', '티빙',\n",
       "       '웨이브', '넷플릭스', '유튜브프리미엄', '디즈니플러스', 'FLO', '멜론', '네이버쇼핑', '마켓컬리',\n",
       "       '쿠팡', '롯데ON', 'G마켓', '옥션', '위메프', '11번가', 'SSG.COM', '현대Hmall',\n",
       "       'GS SHOP', '티몬', 'CJMALL', '인터파크', 'SK페이', 'L.PAY', 'SSGPAY',\n",
       "       'COUPAY', '스마일페이', 'PAYCO', '카카오페이', '네이버페이', '삼성페이', '쿠페이',\n",
       "       'LGU+', 'SKT', 'KT'], dtype=object)"
      ]
     },
     "execution_count": 164,
     "metadata": {},
     "output_type": "execute_result"
    }
   ],
   "source": [
    "combined_df['소분류'].unique()"
   ]
  },
  {
   "cell_type": "code",
   "execution_count": 182,
   "metadata": {},
   "outputs": [],
   "source": [
    "clean['개방서비스명'] = '생활'"
   ]
  },
  {
   "cell_type": "code",
   "execution_count": 192,
   "metadata": {},
   "outputs": [
    {
     "data": {
      "text/plain": [
       "array([nan, '크린토피아', '세탁특공대'], dtype=object)"
      ]
     },
     "execution_count": 192,
     "metadata": {},
     "output_type": "execute_result"
    }
   ],
   "source": [
    "clean['소분류'].unique()"
   ]
  },
  {
   "cell_type": "markdown",
   "metadata": {},
   "source": [
    "### 쇼핑 : \n",
    "대형마트 : 홈플러스, 이마트, 롯데마트\n",
    "백화점 : 롯데, 현대, 갤러리아, 신세계, nan\n",
    "뷰티 : 올리브영\n",
    "아울렛 : 롯데, 현대, 신세계, nan\n",
    "### 생활\n",
    "병원 : nan\n",
    "약국 : nan\n",
    "주유소 : 현대, SK, 알뜰, GS, S-OIL, nan\n",
    "세탁소 : 세탁특공대, 크린토피아, nan\n",
    "### 식비\n",
    "일반음식점 : nan\n",
    "휴게음식점 : nan\n",
    "패밀리레스토랑 : nan\n",
    "### 여가\n",
    "헬스장 : 헬스장\n",
    "영화 : CGV, 롯데시네마, 메가박스, nan\n",
    "### 카페/간식 :\n",
    "카페 : 탐앤탐스, 이디야, 스타벅스, 투썸플레이스, 엔제리너스, 폴바셋, 할리스, 커피빈,카페베네, 블루보틀, nan\n",
    "### 편의점\n",
    "편의점 : CU, 세븐일레븐, 이마트24, GS25, 미니스톱, nan\n",
    "### 온라인\n",
    "공과금 : 도시가스, 관리비\n",
    "교통 : KTX, 택시, 지하철, 버스\n",
    "배달 : 배달의민족, 요기요, 쿠팡이츠\n",
    "스트리밍 : 왓챠, 티빙, 웨이브, 넷플릭스, 유튜브프리미엄, 디즈니플러스, FLO, 멜론\n",
    "온라인 : 네이버쇼핑, 마켓컬리, 쿠팡, 롯데ON, G마켓, 옥션, 위메프, 11번가 SSG.COM, 현대Hmall, GS SHOP, 티몬 , CJMALL, 인터파크\n",
    "간편결제 : SK페이, L.PAY, SSGPAY, COUPAY, 스마일페이, PAYCO, 카카오페이, 네이버페이, 삼성페이, 쿠페이\n",
    "통신 : LGU+, SKT, KT"
   ]
  },
  {
   "cell_type": "code",
   "execution_count": null,
   "metadata": {},
   "outputs": [],
   "source": []
  },
  {
   "cell_type": "markdown",
   "metadata": {},
   "source": []
  }
 ],
 "metadata": {
  "kernelspec": {
   "display_name": "Python 3",
   "language": "python",
   "name": "python3"
  },
  "language_info": {
   "codemirror_mode": {
    "name": "ipython",
    "version": 3
   },
   "file_extension": ".py",
   "mimetype": "text/x-python",
   "name": "python",
   "nbconvert_exporter": "python",
   "pygments_lexer": "ipython3",
   "version": "3.9.13"
  },
  "orig_nbformat": 4
 },
 "nbformat": 4,
 "nbformat_minor": 2
}
