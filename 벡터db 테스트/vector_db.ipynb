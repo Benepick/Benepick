{
 "cells": [
  {
   "cell_type": "code",
   "execution_count": 1,
   "id": "5c1fcd28",
   "metadata": {},
   "outputs": [],
   "source": [
    "# !pip install chromadb"
   ]
  },
  {
   "cell_type": "code",
   "execution_count": 2,
   "id": "01d47dfc",
   "metadata": {},
   "outputs": [],
   "source": [
    "import pandas as pd"
   ]
  },
  {
   "cell_type": "code",
   "execution_count": 3,
   "id": "da97219d",
   "metadata": {},
   "outputs": [],
   "source": [
    "df = pd.read_csv('./card_card.csv')"
   ]
  },
  {
   "cell_type": "code",
   "execution_count": 4,
   "id": "7a169aa9",
   "metadata": {
    "scrolled": true
   },
   "outputs": [],
   "source": [
    "# df['card_in_out_3'].unique()\n",
    "df.drop(['card_in_out_1', 'card_in_out_2', 'card_in_out_3', 'card_img', 'card_overseas'], axis=1, inplace=True)"
   ]
  },
  {
   "cell_type": "code",
   "execution_count": 5,
   "id": "827aa4eb",
   "metadata": {},
   "outputs": [
    {
     "data": {
      "text/plain": [
       "array(['전월실적 없음', '전월실적20 만원 이상', '전월실적30 만원 이상', '전월실적50 만원 이상',\n",
       "       '전월실적10 만원 이상', '전월실적40 만원 이상', '전월실적15 만원 이상', '전월실적100 만원 이상',\n",
       "       nan, '전월실적25 만원 이상', '전월실적5 만원 이상', '전월실적24 만원 이상', '전월실적8 만원 이상',\n",
       "       '전월실적150 만원 이상', '전월실적75 만원 이상', '전월실적60 만원 이상', '전월실적200 만원 이상',\n",
       "       '전월실적1 만원 이상', '전월실적70 만원 이상', '전월실적18 만원 이상', '전월실적29 만원 이상'],\n",
       "      dtype=object)"
      ]
     },
     "execution_count": 5,
     "metadata": {},
     "output_type": "execute_result"
    }
   ],
   "source": [
    "df['card_record'].unique()"
   ]
  },
  {
   "cell_type": "code",
   "execution_count": 6,
   "id": "4cdab8be",
   "metadata": {},
   "outputs": [],
   "source": [
    "# df[df['card_record'] == '전월실적1 만원 이상']"
   ]
  },
  {
   "cell_type": "code",
   "execution_count": 7,
   "id": "05a830d7",
   "metadata": {
    "scrolled": true
   },
   "outputs": [],
   "source": [
    "# df[df['card_record'].isna()]"
   ]
  },
  {
   "cell_type": "code",
   "execution_count": 8,
   "id": "5b25c45a",
   "metadata": {},
   "outputs": [],
   "source": [
    "df['card_record'] = df['card_record'].str.extract('(\\d+)')"
   ]
  },
  {
   "cell_type": "code",
   "execution_count": 9,
   "id": "ae13b085",
   "metadata": {},
   "outputs": [],
   "source": [
    "df['card_record'].fillna(0, inplace=True)"
   ]
  },
  {
   "cell_type": "code",
   "execution_count": 10,
   "id": "7fc7568f",
   "metadata": {},
   "outputs": [
    {
     "data": {
      "text/plain": [
       "array([0, '20', '30', '50', '10', '40', '15', '100', '25', '5', '24', '8',\n",
       "       '150', '75', '60', '200', '1', '70', '18', '29'], dtype=object)"
      ]
     },
     "execution_count": 10,
     "metadata": {},
     "output_type": "execute_result"
    }
   ],
   "source": [
    "df['card_record'].unique()"
   ]
  },
  {
   "cell_type": "code",
   "execution_count": 11,
   "id": "9973d4a2",
   "metadata": {},
   "outputs": [
    {
     "data": {
      "text/html": [
       "<div>\n",
       "<style scoped>\n",
       "    .dataframe tbody tr th:only-of-type {\n",
       "        vertical-align: middle;\n",
       "    }\n",
       "\n",
       "    .dataframe tbody tr th {\n",
       "        vertical-align: top;\n",
       "    }\n",
       "\n",
       "    .dataframe thead th {\n",
       "        text-align: right;\n",
       "    }\n",
       "</style>\n",
       "<table border=\"1\" class=\"dataframe\">\n",
       "  <thead>\n",
       "    <tr style=\"text-align: right;\">\n",
       "      <th></th>\n",
       "      <th>id</th>\n",
       "      <th>card_name</th>\n",
       "      <th>card_brand</th>\n",
       "      <th>card_record</th>\n",
       "    </tr>\n",
       "  </thead>\n",
       "  <tbody>\n",
       "    <tr>\n",
       "      <th>0</th>\n",
       "      <td>1</td>\n",
       "      <td>신한카드 Hi-Point</td>\n",
       "      <td>신한카드</td>\n",
       "      <td>0</td>\n",
       "    </tr>\n",
       "    <tr>\n",
       "      <th>1</th>\n",
       "      <td>2</td>\n",
       "      <td>신한카드 Love</td>\n",
       "      <td>신한카드</td>\n",
       "      <td>20</td>\n",
       "    </tr>\n",
       "    <tr>\n",
       "      <th>2</th>\n",
       "      <td>3</td>\n",
       "      <td>신한카드 Lady</td>\n",
       "      <td>신한카드</td>\n",
       "      <td>30</td>\n",
       "    </tr>\n",
       "    <tr>\n",
       "      <th>3</th>\n",
       "      <td>4</td>\n",
       "      <td>SK에너지 신한카드The you</td>\n",
       "      <td>신한카드</td>\n",
       "      <td>30</td>\n",
       "    </tr>\n",
       "    <tr>\n",
       "      <th>4</th>\n",
       "      <td>5</td>\n",
       "      <td>GS칼텍스 신한카드Dream 100</td>\n",
       "      <td>신한카드</td>\n",
       "      <td>30</td>\n",
       "    </tr>\n",
       "    <tr>\n",
       "      <th>...</th>\n",
       "      <td>...</td>\n",
       "      <td>...</td>\n",
       "      <td>...</td>\n",
       "      <td>...</td>\n",
       "    </tr>\n",
       "    <tr>\n",
       "      <th>2380</th>\n",
       "      <td>2381</td>\n",
       "      <td>삼프로TV 하나카드</td>\n",
       "      <td>하나카드</td>\n",
       "      <td>30</td>\n",
       "    </tr>\n",
       "    <tr>\n",
       "      <th>2381</th>\n",
       "      <td>2382</td>\n",
       "      <td>SC제일은행-현대카드 M CHECK</td>\n",
       "      <td>현대카드</td>\n",
       "      <td>0</td>\n",
       "    </tr>\n",
       "    <tr>\n",
       "      <th>2382</th>\n",
       "      <td>2383</td>\n",
       "      <td>SC제일은행-현대카드 X CHECK</td>\n",
       "      <td>현대카드</td>\n",
       "      <td>0</td>\n",
       "    </tr>\n",
       "    <tr>\n",
       "      <th>2383</th>\n",
       "      <td>2384</td>\n",
       "      <td>네이버페이 머니 하나 체크카드</td>\n",
       "      <td>하나카드</td>\n",
       "      <td>25</td>\n",
       "    </tr>\n",
       "    <tr>\n",
       "      <th>2384</th>\n",
       "      <td>2385</td>\n",
       "      <td>네이버페이 쇼핑엔로카</td>\n",
       "      <td>롯데카드</td>\n",
       "      <td>0</td>\n",
       "    </tr>\n",
       "  </tbody>\n",
       "</table>\n",
       "<p>2385 rows × 4 columns</p>\n",
       "</div>"
      ],
      "text/plain": [
       "        id            card_name card_brand card_record\n",
       "0        1        신한카드 Hi-Point       신한카드           0\n",
       "1        2            신한카드 Love       신한카드          20\n",
       "2        3            신한카드 Lady       신한카드          30\n",
       "3        4    SK에너지 신한카드The you       신한카드          30\n",
       "4        5  GS칼텍스 신한카드Dream 100       신한카드          30\n",
       "...    ...                  ...        ...         ...\n",
       "2380  2381           삼프로TV 하나카드       하나카드          30\n",
       "2381  2382  SC제일은행-현대카드 M CHECK       현대카드           0\n",
       "2382  2383  SC제일은행-현대카드 X CHECK       현대카드           0\n",
       "2383  2384     네이버페이 머니 하나 체크카드       하나카드          25\n",
       "2384  2385          네이버페이 쇼핑엔로카       롯데카드           0\n",
       "\n",
       "[2385 rows x 4 columns]"
      ]
     },
     "execution_count": 11,
     "metadata": {},
     "output_type": "execute_result"
    }
   ],
   "source": [
    "cardList = df\n",
    "cardList"
   ]
  },
  {
   "cell_type": "markdown",
   "id": "7da0fe22",
   "metadata": {},
   "source": [
    "## 카드 혜택 분석"
   ]
  },
  {
   "cell_type": "code",
   "execution_count": 12,
   "id": "440a743c",
   "metadata": {},
   "outputs": [],
   "source": [
    "df = pd.read_csv('./card_benefit.csv')"
   ]
  },
  {
   "cell_type": "code",
   "execution_count": 13,
   "id": "7edc8db8",
   "metadata": {},
   "outputs": [
    {
     "name": "stdout",
     "output_type": "stream",
     "text": [
      "1010    18\n",
      "1022    17\n",
      "85      17\n",
      "1228    17\n",
      "1027    16\n",
      "        ..\n",
      "194      1\n",
      "195      1\n",
      "196      1\n",
      "2170     1\n",
      "1896     1\n",
      "Name: card_id, Length: 2337, dtype: int64\n"
     ]
    }
   ],
   "source": [
    "print(df['card_id'].value_counts())"
   ]
  },
  {
   "cell_type": "code",
   "execution_count": 14,
   "id": "9f3151dd",
   "metadata": {},
   "outputs": [
    {
     "data": {
      "text/plain": [
       "'항공권 특별 우대 서비스\\n- 여행포인트 공제로 최고 25% 할인\\n- 동경(나리타), 북미 하와이 외 6곳\\n* 비수기 공제포인트 300,000\\n  * 성수기 공제포인트 300,000\\n- 북미 서부, 중부, 동부, LA\\n* 비수기 공제포인트 550,000\\n  * 성수기 공제포인트 800,000\\n- 상기 노선은 유나이티드 항공 노선에 준합니다.\\n- 공제 포인트 프로그램은 2014년 12월 31일까지 적용되며, 매년 1월 1일 갱신되어 고지할 예정입니다.\\n- 상기 서비스 문의 및 이용은 롯데카드 여행서비스(☎1577-8400)를 통해서만 가능합니다.'"
      ]
     },
     "execution_count": 14,
     "metadata": {},
     "output_type": "execute_result"
    }
   ],
   "source": [
    "df[df['card_id'] == 1010]['bnf_detail'][5251]"
   ]
  },
  {
   "cell_type": "code",
   "execution_count": 15,
   "id": "be1d7e43",
   "metadata": {},
   "outputs": [
    {
     "data": {
      "text/plain": [
       "card_id\n",
       "1       롯데/ 현대백화점 마이신한포인트 1.0~5.0% 적립\\n- 문화센타 등 비쇼핑 항목...\n",
       "1       전국 가맹점 0.2~2.0% 적립\\n- 국내 어디서나 이용한 일시불/할부 금액의 0...\n",
       "1       S-OIL / 현대오일뱅크 주유 시 리터 당 60원 마이신한포인트 적립\\n- S-O...\n",
       "1       신한투자증권 CMA 결제계좌 지정 시 신판이용 금액의 0.2% 마이신한포인트 추가 ...\n",
       "1       SK텔레콤/KT/LG U+ 이동통신요금 1.0~5.0% 적립\\n- SK텔레콤/KT/...\n",
       "                              ...                        \n",
       "2384    네이버페이 포인트 적립 서비스 세부 사항\\n- 적립된 포인트는 네이버페이 사이트에서...\n",
       "2385    네이버페이 포인트 적립서비스\\n구분 지난달(1일 ~ 말일) 네이버페이 쇼핑엔로카 카...\n",
       "2385    장기할부 서비스\\n장기할부 조건\\n할부개월수 할부요율(연) 할부 이용액 상환방식\\n...\n",
       "2385                                                  NaN\n",
       "2385    장기할부 이용 시\\n- 서비스 제공횟수는 장기할부 이용 기간에 따라 12개월(12회...\n",
       "Name: bnf_detail, Length: 13753, dtype: object"
      ]
     },
     "execution_count": 15,
     "metadata": {},
     "output_type": "execute_result"
    }
   ],
   "source": [
    "grouped = df[['bnf_detail', 'card_id']]\n",
    "grouped = grouped.set_index('card_id', drop=True)\n",
    "# type(grouped)\n",
    "grouped['bnf_detail']"
   ]
  },
  {
   "cell_type": "code",
   "execution_count": 16,
   "id": "8f6e2616",
   "metadata": {},
   "outputs": [
    {
     "data": {
      "text/plain": [
       "array([False])"
      ]
     },
     "execution_count": 16,
     "metadata": {},
     "output_type": "execute_result"
    }
   ],
   "source": [
    "grouped['bnf_detail'].fillna('', inplace=True)\n",
    "grouped['bnf_detail'].isna().unique()"
   ]
  },
  {
   "cell_type": "code",
   "execution_count": 17,
   "id": "80dcbe62",
   "metadata": {},
   "outputs": [
    {
     "data": {
      "text/html": [
       "<div>\n",
       "<style scoped>\n",
       "    .dataframe tbody tr th:only-of-type {\n",
       "        vertical-align: middle;\n",
       "    }\n",
       "\n",
       "    .dataframe tbody tr th {\n",
       "        vertical-align: top;\n",
       "    }\n",
       "\n",
       "    .dataframe thead th {\n",
       "        text-align: right;\n",
       "    }\n",
       "</style>\n",
       "<table border=\"1\" class=\"dataframe\">\n",
       "  <thead>\n",
       "    <tr style=\"text-align: right;\">\n",
       "      <th></th>\n",
       "      <th>bnf_detail</th>\n",
       "    </tr>\n",
       "    <tr>\n",
       "      <th>card_id</th>\n",
       "      <th></th>\n",
       "    </tr>\n",
       "  </thead>\n",
       "  <tbody>\n",
       "    <tr>\n",
       "      <th>1</th>\n",
       "      <td>롯데/ 현대백화점 마이신한포인트 1.0~5.0% 적립\\n- 문화센타 등 비쇼핑 항목...</td>\n",
       "    </tr>\n",
       "    <tr>\n",
       "      <th>2</th>\n",
       "      <td>국내 유명 백화점, 할인점, 온라인 쇼핑몰 최대 5% 할인\\n- 백화점 : 현대, ...</td>\n",
       "    </tr>\n",
       "    <tr>\n",
       "      <th>3</th>\n",
       "      <td>3대 백화점(롯데, 신세계, 현대) 및 롯데마트 5% 결제일 할인\\n- 월 2회 통...</td>\n",
       "    </tr>\n",
       "    <tr>\n",
       "      <th>4</th>\n",
       "      <td>전국 SK 주유소에서 주유 시 리터당 100원 할인\\n- SK 주유시 전월 신판(일...</td>\n",
       "    </tr>\n",
       "    <tr>\n",
       "      <th>5</th>\n",
       "      <td>전국 GS칼텍스 주유 시 리터당 100원 할인\\n- 주유 할인 한도 : 월 50만원...</td>\n",
       "    </tr>\n",
       "    <tr>\n",
       "      <th>...</th>\n",
       "      <td>...</td>\n",
       "    </tr>\n",
       "    <tr>\n",
       "      <th>2381</th>\n",
       "      <td>특화서비스 청구할인\\n구분 할인 대상 할인율 월 할인한도 지난달 실적\\n삼프로TV ...</td>\n",
       "    </tr>\n",
       "    <tr>\n",
       "      <th>2382</th>\n",
       "      <td>M포인트 적립\\n- 전월 이용 금액 100만원 미만 시 0.5%, 100만원 이상 ...</td>\n",
       "    </tr>\n",
       "    <tr>\n",
       "      <th>2383</th>\n",
       "      <td>X캐시백 적립\\n- 전월 이용 금액 100만원 미만 시 0.3%, 100만원 이상 ...</td>\n",
       "    </tr>\n",
       "    <tr>\n",
       "      <th>2384</th>\n",
       "      <td>네이버페이 포인트 적립 서비스\\n- 적립 대상: 국내/외 모든 가맹점\\n- 적립률:...</td>\n",
       "    </tr>\n",
       "    <tr>\n",
       "      <th>2385</th>\n",
       "      <td>네이버페이 포인트 적립서비스\\n구분 지난달(1일 ~ 말일) 네이버페이 쇼핑엔로카 카...</td>\n",
       "    </tr>\n",
       "  </tbody>\n",
       "</table>\n",
       "<p>2337 rows × 1 columns</p>\n",
       "</div>"
      ],
      "text/plain": [
       "                                                bnf_detail\n",
       "card_id                                                   \n",
       "1        롯데/ 현대백화점 마이신한포인트 1.0~5.0% 적립\\n- 문화센타 등 비쇼핑 항목...\n",
       "2        국내 유명 백화점, 할인점, 온라인 쇼핑몰 최대 5% 할인\\n- 백화점 : 현대, ...\n",
       "3        3대 백화점(롯데, 신세계, 현대) 및 롯데마트 5% 결제일 할인\\n- 월 2회 통...\n",
       "4        전국 SK 주유소에서 주유 시 리터당 100원 할인\\n- SK 주유시 전월 신판(일...\n",
       "5        전국 GS칼텍스 주유 시 리터당 100원 할인\\n- 주유 할인 한도 : 월 50만원...\n",
       "...                                                    ...\n",
       "2381     특화서비스 청구할인\\n구분 할인 대상 할인율 월 할인한도 지난달 실적\\n삼프로TV ...\n",
       "2382     M포인트 적립\\n- 전월 이용 금액 100만원 미만 시 0.5%, 100만원 이상 ...\n",
       "2383     X캐시백 적립\\n- 전월 이용 금액 100만원 미만 시 0.3%, 100만원 이상 ...\n",
       "2384     네이버페이 포인트 적립 서비스\\n- 적립 대상: 국내/외 모든 가맹점\\n- 적립률:...\n",
       "2385     네이버페이 포인트 적립서비스\\n구분 지난달(1일 ~ 말일) 네이버페이 쇼핑엔로카 카...\n",
       "\n",
       "[2337 rows x 1 columns]"
      ]
     },
     "execution_count": 17,
     "metadata": {},
     "output_type": "execute_result"
    }
   ],
   "source": [
    "grouped = grouped.groupby(level=0).agg(' '.join)\n",
    "grouped"
   ]
  },
  {
   "cell_type": "code",
   "execution_count": 18,
   "id": "8c01f263",
   "metadata": {},
   "outputs": [],
   "source": [
    "# print(grouped.loc[1, 'bnf_detail'])"
   ]
  },
  {
   "cell_type": "code",
   "execution_count": 19,
   "id": "50d57fba",
   "metadata": {},
   "outputs": [
    {
     "data": {
      "text/html": [
       "<div>\n",
       "<style scoped>\n",
       "    .dataframe tbody tr th:only-of-type {\n",
       "        vertical-align: middle;\n",
       "    }\n",
       "\n",
       "    .dataframe tbody tr th {\n",
       "        vertical-align: top;\n",
       "    }\n",
       "\n",
       "    .dataframe thead th {\n",
       "        text-align: right;\n",
       "    }\n",
       "</style>\n",
       "<table border=\"1\" class=\"dataframe\">\n",
       "  <thead>\n",
       "    <tr style=\"text-align: right;\">\n",
       "      <th></th>\n",
       "      <th>id</th>\n",
       "      <th>bnf_detail</th>\n",
       "    </tr>\n",
       "  </thead>\n",
       "  <tbody>\n",
       "    <tr>\n",
       "      <th>0</th>\n",
       "      <td>1</td>\n",
       "      <td>롯데/ 현대백화점 마이신한포인트 1.0~5.0% 적립\\n- 문화센타 등 비쇼핑 항목...</td>\n",
       "    </tr>\n",
       "    <tr>\n",
       "      <th>1</th>\n",
       "      <td>2</td>\n",
       "      <td>국내 유명 백화점, 할인점, 온라인 쇼핑몰 최대 5% 할인\\n- 백화점 : 현대, ...</td>\n",
       "    </tr>\n",
       "    <tr>\n",
       "      <th>2</th>\n",
       "      <td>3</td>\n",
       "      <td>3대 백화점(롯데, 신세계, 현대) 및 롯데마트 5% 결제일 할인\\n- 월 2회 통...</td>\n",
       "    </tr>\n",
       "    <tr>\n",
       "      <th>3</th>\n",
       "      <td>4</td>\n",
       "      <td>전국 SK 주유소에서 주유 시 리터당 100원 할인\\n- SK 주유시 전월 신판(일...</td>\n",
       "    </tr>\n",
       "    <tr>\n",
       "      <th>4</th>\n",
       "      <td>5</td>\n",
       "      <td>전국 GS칼텍스 주유 시 리터당 100원 할인\\n- 주유 할인 한도 : 월 50만원...</td>\n",
       "    </tr>\n",
       "    <tr>\n",
       "      <th>...</th>\n",
       "      <td>...</td>\n",
       "      <td>...</td>\n",
       "    </tr>\n",
       "    <tr>\n",
       "      <th>2332</th>\n",
       "      <td>2381</td>\n",
       "      <td>특화서비스 청구할인\\n구분 할인 대상 할인율 월 할인한도 지난달 실적\\n삼프로TV ...</td>\n",
       "    </tr>\n",
       "    <tr>\n",
       "      <th>2333</th>\n",
       "      <td>2382</td>\n",
       "      <td>M포인트 적립\\n- 전월 이용 금액 100만원 미만 시 0.5%, 100만원 이상 ...</td>\n",
       "    </tr>\n",
       "    <tr>\n",
       "      <th>2334</th>\n",
       "      <td>2383</td>\n",
       "      <td>X캐시백 적립\\n- 전월 이용 금액 100만원 미만 시 0.3%, 100만원 이상 ...</td>\n",
       "    </tr>\n",
       "    <tr>\n",
       "      <th>2335</th>\n",
       "      <td>2384</td>\n",
       "      <td>네이버페이 포인트 적립 서비스\\n- 적립 대상: 국내/외 모든 가맹점\\n- 적립률:...</td>\n",
       "    </tr>\n",
       "    <tr>\n",
       "      <th>2336</th>\n",
       "      <td>2385</td>\n",
       "      <td>네이버페이 포인트 적립서비스\\n구분 지난달(1일 ~ 말일) 네이버페이 쇼핑엔로카 카...</td>\n",
       "    </tr>\n",
       "  </tbody>\n",
       "</table>\n",
       "<p>2337 rows × 2 columns</p>\n",
       "</div>"
      ],
      "text/plain": [
       "        id                                         bnf_detail\n",
       "0        1  롯데/ 현대백화점 마이신한포인트 1.0~5.0% 적립\\n- 문화센타 등 비쇼핑 항목...\n",
       "1        2  국내 유명 백화점, 할인점, 온라인 쇼핑몰 최대 5% 할인\\n- 백화점 : 현대, ...\n",
       "2        3  3대 백화점(롯데, 신세계, 현대) 및 롯데마트 5% 결제일 할인\\n- 월 2회 통...\n",
       "3        4  전국 SK 주유소에서 주유 시 리터당 100원 할인\\n- SK 주유시 전월 신판(일...\n",
       "4        5  전국 GS칼텍스 주유 시 리터당 100원 할인\\n- 주유 할인 한도 : 월 50만원...\n",
       "...    ...                                                ...\n",
       "2332  2381  특화서비스 청구할인\\n구분 할인 대상 할인율 월 할인한도 지난달 실적\\n삼프로TV ...\n",
       "2333  2382  M포인트 적립\\n- 전월 이용 금액 100만원 미만 시 0.5%, 100만원 이상 ...\n",
       "2334  2383  X캐시백 적립\\n- 전월 이용 금액 100만원 미만 시 0.3%, 100만원 이상 ...\n",
       "2335  2384  네이버페이 포인트 적립 서비스\\n- 적립 대상: 국내/외 모든 가맹점\\n- 적립률:...\n",
       "2336  2385  네이버페이 포인트 적립서비스\\n구분 지난달(1일 ~ 말일) 네이버페이 쇼핑엔로카 카...\n",
       "\n",
       "[2337 rows x 2 columns]"
      ]
     },
     "execution_count": 19,
     "metadata": {},
     "output_type": "execute_result"
    }
   ],
   "source": [
    "grouped = grouped.reset_index()\n",
    "grouped.columns = ['id', 'bnf_detail']\n",
    "grouped"
   ]
  },
  {
   "cell_type": "code",
   "execution_count": 20,
   "id": "91782413",
   "metadata": {},
   "outputs": [
    {
     "data": {
      "text/html": [
       "<div>\n",
       "<style scoped>\n",
       "    .dataframe tbody tr th:only-of-type {\n",
       "        vertical-align: middle;\n",
       "    }\n",
       "\n",
       "    .dataframe tbody tr th {\n",
       "        vertical-align: top;\n",
       "    }\n",
       "\n",
       "    .dataframe thead th {\n",
       "        text-align: right;\n",
       "    }\n",
       "</style>\n",
       "<table border=\"1\" class=\"dataframe\">\n",
       "  <thead>\n",
       "    <tr style=\"text-align: right;\">\n",
       "      <th></th>\n",
       "      <th>id</th>\n",
       "      <th>card_name</th>\n",
       "      <th>card_brand</th>\n",
       "      <th>card_record</th>\n",
       "      <th>bnf_detail</th>\n",
       "    </tr>\n",
       "  </thead>\n",
       "  <tbody>\n",
       "    <tr>\n",
       "      <th>0</th>\n",
       "      <td>1</td>\n",
       "      <td>신한카드 Hi-Point</td>\n",
       "      <td>신한카드</td>\n",
       "      <td>0</td>\n",
       "      <td>롯데/ 현대백화점 마이신한포인트 1.0~5.0% 적립\\n- 문화센타 등 비쇼핑 항목...</td>\n",
       "    </tr>\n",
       "    <tr>\n",
       "      <th>1</th>\n",
       "      <td>2</td>\n",
       "      <td>신한카드 Love</td>\n",
       "      <td>신한카드</td>\n",
       "      <td>20</td>\n",
       "      <td>국내 유명 백화점, 할인점, 온라인 쇼핑몰 최대 5% 할인\\n- 백화점 : 현대, ...</td>\n",
       "    </tr>\n",
       "    <tr>\n",
       "      <th>2</th>\n",
       "      <td>3</td>\n",
       "      <td>신한카드 Lady</td>\n",
       "      <td>신한카드</td>\n",
       "      <td>30</td>\n",
       "      <td>3대 백화점(롯데, 신세계, 현대) 및 롯데마트 5% 결제일 할인\\n- 월 2회 통...</td>\n",
       "    </tr>\n",
       "    <tr>\n",
       "      <th>3</th>\n",
       "      <td>4</td>\n",
       "      <td>SK에너지 신한카드The you</td>\n",
       "      <td>신한카드</td>\n",
       "      <td>30</td>\n",
       "      <td>전국 SK 주유소에서 주유 시 리터당 100원 할인\\n- SK 주유시 전월 신판(일...</td>\n",
       "    </tr>\n",
       "    <tr>\n",
       "      <th>4</th>\n",
       "      <td>5</td>\n",
       "      <td>GS칼텍스 신한카드Dream 100</td>\n",
       "      <td>신한카드</td>\n",
       "      <td>30</td>\n",
       "      <td>전국 GS칼텍스 주유 시 리터당 100원 할인\\n- 주유 할인 한도 : 월 50만원...</td>\n",
       "    </tr>\n",
       "    <tr>\n",
       "      <th>...</th>\n",
       "      <td>...</td>\n",
       "      <td>...</td>\n",
       "      <td>...</td>\n",
       "      <td>...</td>\n",
       "      <td>...</td>\n",
       "    </tr>\n",
       "    <tr>\n",
       "      <th>2332</th>\n",
       "      <td>2381</td>\n",
       "      <td>삼프로TV 하나카드</td>\n",
       "      <td>하나카드</td>\n",
       "      <td>30</td>\n",
       "      <td>특화서비스 청구할인\\n구분 할인 대상 할인율 월 할인한도 지난달 실적\\n삼프로TV ...</td>\n",
       "    </tr>\n",
       "    <tr>\n",
       "      <th>2333</th>\n",
       "      <td>2382</td>\n",
       "      <td>SC제일은행-현대카드 M CHECK</td>\n",
       "      <td>현대카드</td>\n",
       "      <td>0</td>\n",
       "      <td>M포인트 적립\\n- 전월 이용 금액 100만원 미만 시 0.5%, 100만원 이상 ...</td>\n",
       "    </tr>\n",
       "    <tr>\n",
       "      <th>2334</th>\n",
       "      <td>2383</td>\n",
       "      <td>SC제일은행-현대카드 X CHECK</td>\n",
       "      <td>현대카드</td>\n",
       "      <td>0</td>\n",
       "      <td>X캐시백 적립\\n- 전월 이용 금액 100만원 미만 시 0.3%, 100만원 이상 ...</td>\n",
       "    </tr>\n",
       "    <tr>\n",
       "      <th>2335</th>\n",
       "      <td>2384</td>\n",
       "      <td>네이버페이 머니 하나 체크카드</td>\n",
       "      <td>하나카드</td>\n",
       "      <td>25</td>\n",
       "      <td>네이버페이 포인트 적립 서비스\\n- 적립 대상: 국내/외 모든 가맹점\\n- 적립률:...</td>\n",
       "    </tr>\n",
       "    <tr>\n",
       "      <th>2336</th>\n",
       "      <td>2385</td>\n",
       "      <td>네이버페이 쇼핑엔로카</td>\n",
       "      <td>롯데카드</td>\n",
       "      <td>0</td>\n",
       "      <td>네이버페이 포인트 적립서비스\\n구분 지난달(1일 ~ 말일) 네이버페이 쇼핑엔로카 카...</td>\n",
       "    </tr>\n",
       "  </tbody>\n",
       "</table>\n",
       "<p>2337 rows × 5 columns</p>\n",
       "</div>"
      ],
      "text/plain": [
       "        id            card_name card_brand card_record  \\\n",
       "0        1        신한카드 Hi-Point       신한카드           0   \n",
       "1        2            신한카드 Love       신한카드          20   \n",
       "2        3            신한카드 Lady       신한카드          30   \n",
       "3        4    SK에너지 신한카드The you       신한카드          30   \n",
       "4        5  GS칼텍스 신한카드Dream 100       신한카드          30   \n",
       "...    ...                  ...        ...         ...   \n",
       "2332  2381           삼프로TV 하나카드       하나카드          30   \n",
       "2333  2382  SC제일은행-현대카드 M CHECK       현대카드           0   \n",
       "2334  2383  SC제일은행-현대카드 X CHECK       현대카드           0   \n",
       "2335  2384     네이버페이 머니 하나 체크카드       하나카드          25   \n",
       "2336  2385          네이버페이 쇼핑엔로카       롯데카드           0   \n",
       "\n",
       "                                             bnf_detail  \n",
       "0     롯데/ 현대백화점 마이신한포인트 1.0~5.0% 적립\\n- 문화센타 등 비쇼핑 항목...  \n",
       "1     국내 유명 백화점, 할인점, 온라인 쇼핑몰 최대 5% 할인\\n- 백화점 : 현대, ...  \n",
       "2     3대 백화점(롯데, 신세계, 현대) 및 롯데마트 5% 결제일 할인\\n- 월 2회 통...  \n",
       "3     전국 SK 주유소에서 주유 시 리터당 100원 할인\\n- SK 주유시 전월 신판(일...  \n",
       "4     전국 GS칼텍스 주유 시 리터당 100원 할인\\n- 주유 할인 한도 : 월 50만원...  \n",
       "...                                                 ...  \n",
       "2332  특화서비스 청구할인\\n구분 할인 대상 할인율 월 할인한도 지난달 실적\\n삼프로TV ...  \n",
       "2333  M포인트 적립\\n- 전월 이용 금액 100만원 미만 시 0.5%, 100만원 이상 ...  \n",
       "2334  X캐시백 적립\\n- 전월 이용 금액 100만원 미만 시 0.3%, 100만원 이상 ...  \n",
       "2335  네이버페이 포인트 적립 서비스\\n- 적립 대상: 국내/외 모든 가맹점\\n- 적립률:...  \n",
       "2336  네이버페이 포인트 적립서비스\\n구분 지난달(1일 ~ 말일) 네이버페이 쇼핑엔로카 카...  \n",
       "\n",
       "[2337 rows x 5 columns]"
      ]
     },
     "execution_count": 20,
     "metadata": {},
     "output_type": "execute_result"
    }
   ],
   "source": [
    "cardList = pd.merge(cardList, grouped)\n",
    "cardList"
   ]
  },
  {
   "cell_type": "code",
   "execution_count": 21,
   "id": "3413b763",
   "metadata": {},
   "outputs": [],
   "source": [
    "import chromadb"
   ]
  },
  {
   "cell_type": "code",
   "execution_count": 22,
   "id": "fd63ba98",
   "metadata": {},
   "outputs": [],
   "source": [
    "client = chromadb.PersistentClient(path=\"../data\")"
   ]
  },
  {
   "cell_type": "code",
   "execution_count": 23,
   "id": "7cccd311",
   "metadata": {},
   "outputs": [],
   "source": [
    "collection = client.get_or_create_collection(\n",
    "    name=\"test\"\n",
    ")"
   ]
  },
  {
   "cell_type": "code",
   "execution_count": 24,
   "id": "3e97f2dc",
   "metadata": {},
   "outputs": [],
   "source": [
    "# 데이터 준비\n",
    "# 인덱스\n",
    "ids = []\n",
    "# 메타데이터\n",
    "doc_meta = []\n",
    "# 벡터로 변환 저장할 텍스트 데이터로 ChromaDB에 Embedding 데이터가 없으면 자동으로 벡터로 변환해서 저장한다고 한다. \n",
    "documents = []"
   ]
  }
 ],
 "metadata": {
  "kernelspec": {
   "display_name": "Python 3 (ipykernel)",
   "language": "python",
   "name": "python3"
  },
  "language_info": {
   "codemirror_mode": {
    "name": "ipython",
    "version": 3
   },
   "file_extension": ".py",
   "mimetype": "text/x-python",
   "name": "python",
   "nbconvert_exporter": "python",
   "pygments_lexer": "ipython3",
   "version": "3.11.4"
  }
 },
 "nbformat": 4,
 "nbformat_minor": 5
}
