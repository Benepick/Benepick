{
 "cells": [
  {
   "cell_type": "code",
   "execution_count": 1,
   "id": "19320af2",
   "metadata": {},
   "outputs": [],
   "source": [
    "import pandas as pd"
   ]
  },
  {
   "cell_type": "markdown",
   "id": "0e26422e",
   "metadata": {},
   "source": [
    "# 카드 리스트"
   ]
  },
  {
   "cell_type": "code",
   "execution_count": 18,
   "id": "4c635659",
   "metadata": {},
   "outputs": [],
   "source": [
    "cardList = pd.read_csv('filtered_credit_card_.csv')"
   ]
  },
  {
   "cell_type": "code",
   "execution_count": 26,
   "id": "973e0a20",
   "metadata": {},
   "outputs": [],
   "source": [
    "cardList.drop(columns='Unnamed: 0', axis=1, inplace=True)"
   ]
  },
  {
   "cell_type": "code",
   "execution_count": 25,
   "id": "e40f5ca9",
   "metadata": {},
   "outputs": [],
   "source": [
    "cardList['card_id'] = cardList.loc[:, ['card_id']].astype('int')"
   ]
  },
  {
   "cell_type": "code",
   "execution_count": 43,
   "id": "671f20a5",
   "metadata": {},
   "outputs": [
    {
     "data": {
      "text/html": [
       "<div>\n",
       "<style scoped>\n",
       "    .dataframe tbody tr th:only-of-type {\n",
       "        vertical-align: middle;\n",
       "    }\n",
       "\n",
       "    .dataframe tbody tr th {\n",
       "        vertical-align: top;\n",
       "    }\n",
       "\n",
       "    .dataframe thead th {\n",
       "        text-align: right;\n",
       "    }\n",
       "</style>\n",
       "<table border=\"1\" class=\"dataframe\">\n",
       "  <thead>\n",
       "    <tr style=\"text-align: right;\">\n",
       "      <th></th>\n",
       "      <th>card_id</th>\n",
       "      <th>card_name</th>\n",
       "      <th>card_brand</th>\n",
       "      <th>card_fee_in</th>\n",
       "      <th>card_record</th>\n",
       "      <th>card_type</th>\n",
       "      <th>card_image</th>\n",
       "    </tr>\n",
       "  </thead>\n",
       "  <tbody>\n",
       "    <tr>\n",
       "      <th>count</th>\n",
       "      <td>738</td>\n",
       "      <td>738</td>\n",
       "      <td>738</td>\n",
       "      <td>738</td>\n",
       "      <td>738</td>\n",
       "      <td>738</td>\n",
       "      <td>738</td>\n",
       "    </tr>\n",
       "    <tr>\n",
       "      <th>unique</th>\n",
       "      <td>1</td>\n",
       "      <td>1</td>\n",
       "      <td>1</td>\n",
       "      <td>1</td>\n",
       "      <td>1</td>\n",
       "      <td>2</td>\n",
       "      <td>1</td>\n",
       "    </tr>\n",
       "    <tr>\n",
       "      <th>top</th>\n",
       "      <td>False</td>\n",
       "      <td>False</td>\n",
       "      <td>False</td>\n",
       "      <td>False</td>\n",
       "      <td>False</td>\n",
       "      <td>False</td>\n",
       "      <td>False</td>\n",
       "    </tr>\n",
       "    <tr>\n",
       "      <th>freq</th>\n",
       "      <td>738</td>\n",
       "      <td>738</td>\n",
       "      <td>738</td>\n",
       "      <td>738</td>\n",
       "      <td>738</td>\n",
       "      <td>705</td>\n",
       "      <td>738</td>\n",
       "    </tr>\n",
       "  </tbody>\n",
       "</table>\n",
       "</div>"
      ],
      "text/plain": [
       "       card_id card_name card_brand card_fee_in card_record card_type  \\\n",
       "count      738       738        738         738         738       738   \n",
       "unique       1         1          1           1           1         2   \n",
       "top      False     False      False       False       False     False   \n",
       "freq       738       738        738         738         738       705   \n",
       "\n",
       "       card_image  \n",
       "count         738  \n",
       "unique          1  \n",
       "top         False  \n",
       "freq          738  "
      ]
     },
     "execution_count": 43,
     "metadata": {},
     "output_type": "execute_result"
    }
   ],
   "source": [
    "cardList.isna().describe()"
   ]
  },
  {
   "cell_type": "code",
   "execution_count": 45,
   "id": "84cdc1e5",
   "metadata": {},
   "outputs": [
    {
     "data": {
      "text/plain": [
       "array(['VISAmastercardJCB', 'VISAmastercardAMEXUnionPay',\n",
       "       'VISAmastercardUnionPay', 'VISAmastercard', 'VISA', 'VISAUnionPay',\n",
       "       'AMEX', 'mastercard', 'mastercardUnionPay', 'VISAmastercardAMEX',\n",
       "       'VISABCBC GlobalmastercardUnionPay', 'BCmastercard',\n",
       "       'BCmastercardUnionPay', 'VISABCmastercard', 'VISABCUnionPay', nan,\n",
       "       'VISAmastercardAMEXUnionPayJCB', 'mastercardJCB', 'mastercardAMEX',\n",
       "       'UnionPay', 'VISAmastercardUnionPayJCB', 'JCB', 'VISAJCB',\n",
       "       'mastercardUnionPayJCB', 'BC', 'BCBC Global',\n",
       "       'BCBC GlobalmastercardUnionPay', 'BCBC Globalmastercard',\n",
       "       'BCUnionPay', 'VISABCBC Globalmastercard', 'VISABC',\n",
       "       'VISABCmastercardUnionPay', 'VISABC Global', 'BC Globalmastercard',\n",
       "       'AMEXJCB', 'UnionPayJCB', 'BCJCB', 'Diners Club', 'BC Global'],\n",
       "      dtype=object)"
      ]
     },
     "execution_count": 45,
     "metadata": {},
     "output_type": "execute_result"
    }
   ],
   "source": [
    "cardList['card_type'].unique()"
   ]
  },
  {
   "cell_type": "markdown",
   "id": "ce76825b",
   "metadata": {},
   "source": [
    "# 카드 혜택"
   ]
  },
  {
   "cell_type": "code",
   "execution_count": 33,
   "id": "8ce196e8",
   "metadata": {},
   "outputs": [],
   "source": [
    "cardBenefits = pd.read_csv('filtered_benefit_.csv')"
   ]
  },
  {
   "cell_type": "code",
   "execution_count": 34,
   "id": "f81bc60d",
   "metadata": {},
   "outputs": [],
   "source": [
    "cardBenefits.drop(columns='Unnamed: 0', axis=1, inplace=True)"
   ]
  },
  {
   "cell_type": "code",
   "execution_count": 35,
   "id": "5908019f",
   "metadata": {},
   "outputs": [],
   "source": [
    "cardBenefits['card_id'] = cardBenefits.loc[:, ['card_id']].astype('int')"
   ]
  },
  {
   "cell_type": "code",
   "execution_count": 46,
   "id": "7e36e3a7",
   "metadata": {},
   "outputs": [
    {
     "data": {
      "text/html": [
       "<div>\n",
       "<style scoped>\n",
       "    .dataframe tbody tr th:only-of-type {\n",
       "        vertical-align: middle;\n",
       "    }\n",
       "\n",
       "    .dataframe tbody tr th {\n",
       "        vertical-align: top;\n",
       "    }\n",
       "\n",
       "    .dataframe thead th {\n",
       "        text-align: right;\n",
       "    }\n",
       "</style>\n",
       "<table border=\"1\" class=\"dataframe\">\n",
       "  <thead>\n",
       "    <tr style=\"text-align: right;\">\n",
       "      <th></th>\n",
       "      <th>card_id</th>\n",
       "      <th>card_name</th>\n",
       "      <th>card_category</th>\n",
       "      <th>content</th>\n",
       "      <th>detail</th>\n",
       "    </tr>\n",
       "  </thead>\n",
       "  <tbody>\n",
       "    <tr>\n",
       "      <th>0</th>\n",
       "      <td>1</td>\n",
       "      <td>신한카드 Hi-Point</td>\n",
       "      <td>소매</td>\n",
       "      <td>백화점/할인점/홈쇼핑·온라인몰 1.0~5.0% 적립</td>\n",
       "      <td>롯데/ 현대백화점 마이신한포인트 1.0~5.0% 적립\\r\\n- 문화센타 등 비쇼핑 ...</td>\n",
       "    </tr>\n",
       "    <tr>\n",
       "      <th>1</th>\n",
       "      <td>1</td>\n",
       "      <td>신한카드 Hi-Point</td>\n",
       "      <td>생활서비스</td>\n",
       "      <td>S-OIL, 현대오일뱅크 주유 시 리터 당 60원 적립</td>\n",
       "      <td>S-OIL / 현대오일뱅크 주유 시 리터 당 60원 마이신한포인트 적립\\r\\n- S...</td>\n",
       "    </tr>\n",
       "    <tr>\n",
       "      <th>2</th>\n",
       "      <td>1</td>\n",
       "      <td>신한카드 Hi-Point</td>\n",
       "      <td>생활서비스</td>\n",
       "      <td>SK텔레콤/KT/LG U+ 이동통신요금 1.0~5.0% 적립</td>\n",
       "      <td>SK텔레콤/KT/LG U+ 이동통신요금 1.0~5.0% 적립\\r\\n- SK텔레콤/K...</td>\n",
       "    </tr>\n",
       "    <tr>\n",
       "      <th>3</th>\n",
       "      <td>2</td>\n",
       "      <td>신한카드 Love</td>\n",
       "      <td>소매</td>\n",
       "      <td>국내 유명 백화점, 할인점, 온라인 쇼핑몰 최대 5% 할인</td>\n",
       "      <td>국내 유명 백화점, 할인점, 온라인 쇼핑몰 최대 5% 할인\\r\\n- 백화점 : 현대...</td>\n",
       "    </tr>\n",
       "    <tr>\n",
       "      <th>4</th>\n",
       "      <td>2</td>\n",
       "      <td>신한카드 Love</td>\n",
       "      <td>음식</td>\n",
       "      <td>국내 유명 패밀리레스토랑, 커피 20~30% 할인</td>\n",
       "      <td>유명 패밀리 레스토랑 20~30% 할인\\r\\n- 패밀리 레스토랑 : 아웃백, 카페마...</td>\n",
       "    </tr>\n",
       "    <tr>\n",
       "      <th>...</th>\n",
       "      <td>...</td>\n",
       "      <td>...</td>\n",
       "      <td>...</td>\n",
       "      <td>...</td>\n",
       "      <td>...</td>\n",
       "    </tr>\n",
       "    <tr>\n",
       "      <th>1123</th>\n",
       "      <td>2565</td>\n",
       "      <td>I-PET</td>\n",
       "      <td>음식</td>\n",
       "      <td>커피 10% 할인</td>\n",
       "      <td>커피 10% 할인\\r\\n- 스타벅스, 커피빈, 투썸플레이스, 폴바셋, 이디야\\r\\n...</td>\n",
       "    </tr>\n",
       "    <tr>\n",
       "      <th>1124</th>\n",
       "      <td>2565</td>\n",
       "      <td>I-PET</td>\n",
       "      <td>소매</td>\n",
       "      <td>대형마트 5% 할인</td>\n",
       "      <td>대형마트 5% 할인\\r\\n- 이마트, 롯데마트, 홈플러스\\r\\n- 월 최대 1만원 ...</td>\n",
       "    </tr>\n",
       "    <tr>\n",
       "      <th>1125</th>\n",
       "      <td>2565</td>\n",
       "      <td>I-PET</td>\n",
       "      <td>소매</td>\n",
       "      <td>편의점 5% 할인</td>\n",
       "      <td>편의점 5% 할인\\r\\n- GS25, CU, 세븐일레븐\\r\\n- 월 최대 5천원 할...</td>\n",
       "    </tr>\n",
       "    <tr>\n",
       "      <th>1126</th>\n",
       "      <td>2567</td>\n",
       "      <td>우리동네GS 삼성카드</td>\n",
       "      <td>소매</td>\n",
       "      <td>GS25 1%/5%/10% 결제일 할인</td>\n",
       "      <td>GS25 1%/5%/10% 결제일 할인\\r\\n- 서비스 안내: GS25 1%/5%/...</td>\n",
       "    </tr>\n",
       "    <tr>\n",
       "      <th>1127</th>\n",
       "      <td>2567</td>\n",
       "      <td>우리동네GS 삼성카드</td>\n",
       "      <td>음식</td>\n",
       "      <td>커피전문점/배달앱 10% 결제일할인</td>\n",
       "      <td>커피전문점/배달앱 10% 결제일할인\\r\\n- 서비스안내: 커피전문점/배달앱 10% ...</td>\n",
       "    </tr>\n",
       "  </tbody>\n",
       "</table>\n",
       "<p>1128 rows × 5 columns</p>\n",
       "</div>"
      ],
      "text/plain": [
       "      card_id      card_name card_category                            content  \\\n",
       "0           1  신한카드 Hi-Point            소매       백화점/할인점/홈쇼핑·온라인몰 1.0~5.0% 적립   \n",
       "1           1  신한카드 Hi-Point         생활서비스     S-OIL, 현대오일뱅크 주유 시 리터 당 60원 적립   \n",
       "2           1  신한카드 Hi-Point         생활서비스  SK텔레콤/KT/LG U+ 이동통신요금 1.0~5.0% 적립   \n",
       "3           2      신한카드 Love            소매   국내 유명 백화점, 할인점, 온라인 쇼핑몰 최대 5% 할인   \n",
       "4           2      신한카드 Love            음식        국내 유명 패밀리레스토랑, 커피 20~30% 할인   \n",
       "...       ...            ...           ...                                ...   \n",
       "1123     2565          I-PET            음식                          커피 10% 할인   \n",
       "1124     2565          I-PET            소매                         대형마트 5% 할인   \n",
       "1125     2565          I-PET            소매                          편의점 5% 할인   \n",
       "1126     2567    우리동네GS 삼성카드            소매              GS25 1%/5%/10% 결제일 할인   \n",
       "1127     2567    우리동네GS 삼성카드            음식                커피전문점/배달앱 10% 결제일할인   \n",
       "\n",
       "                                                 detail  \n",
       "0     롯데/ 현대백화점 마이신한포인트 1.0~5.0% 적립\\r\\n- 문화센타 등 비쇼핑 ...  \n",
       "1     S-OIL / 현대오일뱅크 주유 시 리터 당 60원 마이신한포인트 적립\\r\\n- S...  \n",
       "2     SK텔레콤/KT/LG U+ 이동통신요금 1.0~5.0% 적립\\r\\n- SK텔레콤/K...  \n",
       "3     국내 유명 백화점, 할인점, 온라인 쇼핑몰 최대 5% 할인\\r\\n- 백화점 : 현대...  \n",
       "4     유명 패밀리 레스토랑 20~30% 할인\\r\\n- 패밀리 레스토랑 : 아웃백, 카페마...  \n",
       "...                                                 ...  \n",
       "1123  커피 10% 할인\\r\\n- 스타벅스, 커피빈, 투썸플레이스, 폴바셋, 이디야\\r\\n...  \n",
       "1124  대형마트 5% 할인\\r\\n- 이마트, 롯데마트, 홈플러스\\r\\n- 월 최대 1만원 ...  \n",
       "1125  편의점 5% 할인\\r\\n- GS25, CU, 세븐일레븐\\r\\n- 월 최대 5천원 할...  \n",
       "1126  GS25 1%/5%/10% 결제일 할인\\r\\n- 서비스 안내: GS25 1%/5%/...  \n",
       "1127  커피전문점/배달앱 10% 결제일할인\\r\\n- 서비스안내: 커피전문점/배달앱 10% ...  \n",
       "\n",
       "[1128 rows x 5 columns]"
      ]
     },
     "execution_count": 46,
     "metadata": {},
     "output_type": "execute_result"
    }
   ],
   "source": [
    "cardBenefits"
   ]
  },
  {
   "cell_type": "code",
   "execution_count": 51,
   "id": "4677f1b1",
   "metadata": {},
   "outputs": [
    {
     "data": {
      "text/plain": [
       "array([False])"
      ]
     },
     "execution_count": 51,
     "metadata": {},
     "output_type": "execute_result"
    }
   ],
   "source": [
    "cardBenefits['card_id'].isna().unique()"
   ]
  },
  {
   "cell_type": "code",
   "execution_count": 52,
   "id": "a61d9b56",
   "metadata": {},
   "outputs": [
    {
     "ename": "NameError",
     "evalue": "name 'join' is not defined",
     "output_type": "error",
     "traceback": [
      "\u001b[1;31m---------------------------------------------------------------------------\u001b[0m",
      "\u001b[1;31mNameError\u001b[0m                                 Traceback (most recent call last)",
      "Cell \u001b[1;32mIn[52], line 2\u001b[0m\n\u001b[0;32m      1\u001b[0m \u001b[38;5;66;03m# 혜택을 하나의 문자열로 합치기\u001b[39;00m\n\u001b[1;32m----> 2\u001b[0m bnf_detail \u001b[38;5;241m=\u001b[39m cardBenefits\u001b[38;5;241m.\u001b[39mgroupby([\u001b[38;5;124m'\u001b[39m\u001b[38;5;124mcard_id\u001b[39m\u001b[38;5;124m'\u001b[39m])\u001b[38;5;241m.\u001b[39magg(\u001b[38;5;124m'\u001b[39m\u001b[38;5;124m \u001b[39m\u001b[38;5;124m'\u001b[39m,join)\n\u001b[0;32m      3\u001b[0m bnf_detail\n",
      "\u001b[1;31mNameError\u001b[0m: name 'join' is not defined"
     ]
    }
   ],
   "source": [
    "# 혜택을 하나의 문자열로 합치기\n",
    "bnf_detail = cardBenefits.groupby(['card_id']).agg(' ',join, )\n",
    "bnf_detail"
   ]
  }
 ],
 "metadata": {
  "kernelspec": {
   "display_name": "Python 3 (ipykernel)",
   "language": "python",
   "name": "python3"
  },
  "language_info": {
   "codemirror_mode": {
    "name": "ipython",
    "version": 3
   },
   "file_extension": ".py",
   "mimetype": "text/x-python",
   "name": "python",
   "nbconvert_exporter": "python",
   "pygments_lexer": "ipython3",
   "version": "3.11.4"
  }
 },
 "nbformat": 4,
 "nbformat_minor": 5
}
